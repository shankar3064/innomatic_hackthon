{
 "cells": [
  {
   "cell_type": "code",
   "execution_count": 119,
   "id": "768a8f47",
   "metadata": {},
   "outputs": [],
   "source": [
    "import pandas as pd\n",
    "import plotly.express as px\n",
    "import plotly.graph_objects as go"
   ]
  },
  {
   "cell_type": "code",
   "execution_count": 125,
   "id": "85e2972a",
   "metadata": {},
   "outputs": [
    {
     "name": "stdout",
     "output_type": "stream",
     "text": [
      "Collecting shapely\n",
      "  Downloading shapely-2.0.1-cp39-cp39-win_amd64.whl (1.4 MB)\n",
      "Requirement already satisfied: numpy>=1.14 in c:\\users\\shankar\\anaconda3\\lib\\site-packages (from shapely) (1.20.3)\n",
      "Installing collected packages: shapely\n",
      "Successfully installed shapely-2.0.1\n",
      "Note: you may need to restart the kernel to use updated packages.\n"
     ]
    }
   ],
   "source": [
    "pip install shapely"
   ]
  },
  {
   "cell_type": "code",
   "execution_count": 130,
   "id": "c1c9aed9",
   "metadata": {},
   "outputs": [
    {
     "name": "stdout",
     "output_type": "stream",
     "text": [
      "Collecting geopandas\n",
      "  Downloading geopandas-0.13.2-py3-none-any.whl (1.1 MB)\n",
      "Collecting pyproj>=3.0.1\n",
      "  Downloading pyproj-3.6.0-cp39-cp39-win_amd64.whl (5.8 MB)\n",
      "Requirement already satisfied: shapely>=1.7.1 in c:\\users\\shankar\\anaconda3\\lib\\site-packages (from geopandas) (2.0.1)\n",
      "Requirement already satisfied: packaging in c:\\users\\shankar\\anaconda3\\lib\\site-packages (from geopandas) (21.0)\n",
      "Requirement already satisfied: pandas>=1.1.0 in c:\\users\\shankar\\anaconda3\\lib\\site-packages (from geopandas) (1.3.4)\n",
      "Collecting fiona>=1.8.19\n",
      "  Downloading Fiona-1.9.4.post1-cp39-cp39-win_amd64.whl (22.7 MB)\n",
      "Requirement already satisfied: click~=8.0 in c:\\users\\shankar\\anaconda3\\lib\\site-packages (from fiona>=1.8.19->geopandas) (8.0.3)\n",
      "Requirement already satisfied: attrs>=19.2.0 in c:\\users\\shankar\\anaconda3\\lib\\site-packages (from fiona>=1.8.19->geopandas) (21.2.0)\n",
      "Collecting click-plugins>=1.0\n",
      "  Downloading click_plugins-1.1.1-py2.py3-none-any.whl (7.5 kB)\n",
      "Collecting cligj>=0.5\n",
      "  Downloading cligj-0.7.2-py3-none-any.whl (7.1 kB)\n",
      "Requirement already satisfied: certifi in c:\\users\\shankar\\anaconda3\\lib\\site-packages (from fiona>=1.8.19->geopandas) (2021.10.8)\n",
      "Requirement already satisfied: importlib-metadata in c:\\users\\shankar\\anaconda3\\lib\\site-packages (from fiona>=1.8.19->geopandas) (6.0.0)\n",
      "Requirement already satisfied: six in c:\\users\\shankar\\anaconda3\\lib\\site-packages (from fiona>=1.8.19->geopandas) (1.16.0)\n",
      "Requirement already satisfied: colorama in c:\\users\\shankar\\anaconda3\\lib\\site-packages (from click~=8.0->fiona>=1.8.19->geopandas) (0.4.4)\n",
      "Requirement already satisfied: python-dateutil>=2.7.3 in c:\\users\\shankar\\anaconda3\\lib\\site-packages (from pandas>=1.1.0->geopandas) (2.8.2)\n",
      "Requirement already satisfied: pytz>=2017.3 in c:\\users\\shankar\\anaconda3\\lib\\site-packages (from pandas>=1.1.0->geopandas) (2021.3)\n",
      "Requirement already satisfied: numpy>=1.17.3 in c:\\users\\shankar\\anaconda3\\lib\\site-packages (from pandas>=1.1.0->geopandas) (1.20.3)\n",
      "Requirement already satisfied: zipp>=0.5 in c:\\users\\shankar\\anaconda3\\lib\\site-packages (from importlib-metadata->fiona>=1.8.19->geopandas) (3.6.0)\n",
      "Requirement already satisfied: pyparsing>=2.0.2 in c:\\users\\shankar\\anaconda3\\lib\\site-packages (from packaging->geopandas) (3.0.4)\n",
      "Installing collected packages: cligj, click-plugins, pyproj, fiona, geopandas\n",
      "Successfully installed click-plugins-1.1.1 cligj-0.7.2 fiona-1.9.4.post1 geopandas-0.13.2 pyproj-3.6.0\n",
      "Note: you may need to restart the kernel to use updated packages.\n"
     ]
    }
   ],
   "source": [
    "pip install geopandas\n"
   ]
  },
  {
   "cell_type": "code",
   "execution_count": 131,
   "id": "222b709d",
   "metadata": {},
   "outputs": [],
   "source": [
    "import pandas as pd\n",
    "import numpy as np\n",
    "\n",
    "# visualization libraries\n",
    "import matplotlib.pyplot as plt\n",
    "import seaborn as sns\n",
    "%matplotlib inline\n",
    "# for scientific and statistical computing\n",
    "import scipy as sp\n",
    "#To make working with geospatial data in python easier\n",
    "from shapely.geometry import Point\n",
    "import geopandas as gpd\n",
    "from geopandas import GeoDataFrame\n",
    "\n",
    "plt.style.use('ggplot')"
   ]
  },
  {
   "cell_type": "code",
   "execution_count": 132,
   "id": "b537fcc2",
   "metadata": {},
   "outputs": [],
   "source": [
    "df = pd.read_csv('https://drive.google.com/uc?id=1P742LU5OTXbfFG2F6drbABk1O8UGf4Cd')"
   ]
  },
  {
   "cell_type": "code",
   "execution_count": 133,
   "id": "a667fbc2",
   "metadata": {},
   "outputs": [
    {
     "data": {
      "text/html": [
       "<div>\n",
       "<style scoped>\n",
       "    .dataframe tbody tr th:only-of-type {\n",
       "        vertical-align: middle;\n",
       "    }\n",
       "\n",
       "    .dataframe tbody tr th {\n",
       "        vertical-align: top;\n",
       "    }\n",
       "\n",
       "    .dataframe thead th {\n",
       "        text-align: right;\n",
       "    }\n",
       "</style>\n",
       "<table border=\"1\" class=\"dataframe\">\n",
       "  <thead>\n",
       "    <tr style=\"text-align: right;\">\n",
       "      <th></th>\n",
       "      <th>VIN (1-10)</th>\n",
       "      <th>County</th>\n",
       "      <th>City</th>\n",
       "      <th>State</th>\n",
       "      <th>Postal Code</th>\n",
       "      <th>Model Year</th>\n",
       "      <th>Make</th>\n",
       "      <th>Model</th>\n",
       "      <th>Electric Vehicle Type</th>\n",
       "      <th>Clean Alternative Fuel Vehicle (CAFV) Eligibility</th>\n",
       "      <th>Electric Range</th>\n",
       "      <th>Base MSRP</th>\n",
       "      <th>Legislative District</th>\n",
       "      <th>DOL Vehicle ID</th>\n",
       "      <th>Vehicle Location</th>\n",
       "      <th>Electric Utility</th>\n",
       "      <th>2020 Census Tract</th>\n",
       "    </tr>\n",
       "  </thead>\n",
       "  <tbody>\n",
       "    <tr>\n",
       "      <th>0</th>\n",
       "      <td>JTMEB3FV6N</td>\n",
       "      <td>Monroe</td>\n",
       "      <td>Key West</td>\n",
       "      <td>FL</td>\n",
       "      <td>33040</td>\n",
       "      <td>2022</td>\n",
       "      <td>TOYOTA</td>\n",
       "      <td>RAV4 PRIME</td>\n",
       "      <td>Plug-in Hybrid Electric Vehicle (PHEV)</td>\n",
       "      <td>Clean Alternative Fuel Vehicle Eligible</td>\n",
       "      <td>42</td>\n",
       "      <td>0</td>\n",
       "      <td>NaN</td>\n",
       "      <td>198968248</td>\n",
       "      <td>POINT (-81.80023 24.5545)</td>\n",
       "      <td>NaN</td>\n",
       "      <td>12087972100</td>\n",
       "    </tr>\n",
       "    <tr>\n",
       "      <th>1</th>\n",
       "      <td>1G1RD6E45D</td>\n",
       "      <td>Clark</td>\n",
       "      <td>Laughlin</td>\n",
       "      <td>NV</td>\n",
       "      <td>89029</td>\n",
       "      <td>2013</td>\n",
       "      <td>CHEVROLET</td>\n",
       "      <td>VOLT</td>\n",
       "      <td>Plug-in Hybrid Electric Vehicle (PHEV)</td>\n",
       "      <td>Clean Alternative Fuel Vehicle Eligible</td>\n",
       "      <td>38</td>\n",
       "      <td>0</td>\n",
       "      <td>NaN</td>\n",
       "      <td>5204412</td>\n",
       "      <td>POINT (-114.57245 35.16815)</td>\n",
       "      <td>NaN</td>\n",
       "      <td>32003005702</td>\n",
       "    </tr>\n",
       "    <tr>\n",
       "      <th>2</th>\n",
       "      <td>JN1AZ0CP8B</td>\n",
       "      <td>Yakima</td>\n",
       "      <td>Yakima</td>\n",
       "      <td>WA</td>\n",
       "      <td>98901</td>\n",
       "      <td>2011</td>\n",
       "      <td>NISSAN</td>\n",
       "      <td>LEAF</td>\n",
       "      <td>Battery Electric Vehicle (BEV)</td>\n",
       "      <td>Clean Alternative Fuel Vehicle Eligible</td>\n",
       "      <td>73</td>\n",
       "      <td>0</td>\n",
       "      <td>15.0</td>\n",
       "      <td>218972519</td>\n",
       "      <td>POINT (-120.50721 46.60448)</td>\n",
       "      <td>PACIFICORP</td>\n",
       "      <td>53077001602</td>\n",
       "    </tr>\n",
       "    <tr>\n",
       "      <th>3</th>\n",
       "      <td>1G1FW6S08H</td>\n",
       "      <td>Skagit</td>\n",
       "      <td>Concrete</td>\n",
       "      <td>WA</td>\n",
       "      <td>98237</td>\n",
       "      <td>2017</td>\n",
       "      <td>CHEVROLET</td>\n",
       "      <td>BOLT EV</td>\n",
       "      <td>Battery Electric Vehicle (BEV)</td>\n",
       "      <td>Clean Alternative Fuel Vehicle Eligible</td>\n",
       "      <td>238</td>\n",
       "      <td>0</td>\n",
       "      <td>39.0</td>\n",
       "      <td>186750406</td>\n",
       "      <td>POINT (-121.7515 48.53892)</td>\n",
       "      <td>PUGET SOUND ENERGY INC</td>\n",
       "      <td>53057951101</td>\n",
       "    </tr>\n",
       "    <tr>\n",
       "      <th>4</th>\n",
       "      <td>3FA6P0SU1K</td>\n",
       "      <td>Snohomish</td>\n",
       "      <td>Everett</td>\n",
       "      <td>WA</td>\n",
       "      <td>98201</td>\n",
       "      <td>2019</td>\n",
       "      <td>FORD</td>\n",
       "      <td>FUSION</td>\n",
       "      <td>Plug-in Hybrid Electric Vehicle (PHEV)</td>\n",
       "      <td>Not eligible due to low battery range</td>\n",
       "      <td>26</td>\n",
       "      <td>0</td>\n",
       "      <td>38.0</td>\n",
       "      <td>2006714</td>\n",
       "      <td>POINT (-122.20596 47.97659)</td>\n",
       "      <td>PUGET SOUND ENERGY INC</td>\n",
       "      <td>53061041500</td>\n",
       "    </tr>\n",
       "  </tbody>\n",
       "</table>\n",
       "</div>"
      ],
      "text/plain": [
       "   VIN (1-10)     County      City State  Postal Code  Model Year       Make  \\\n",
       "0  JTMEB3FV6N     Monroe  Key West    FL        33040        2022     TOYOTA   \n",
       "1  1G1RD6E45D      Clark  Laughlin    NV        89029        2013  CHEVROLET   \n",
       "2  JN1AZ0CP8B     Yakima    Yakima    WA        98901        2011     NISSAN   \n",
       "3  1G1FW6S08H     Skagit  Concrete    WA        98237        2017  CHEVROLET   \n",
       "4  3FA6P0SU1K  Snohomish   Everett    WA        98201        2019       FORD   \n",
       "\n",
       "        Model                   Electric Vehicle Type  \\\n",
       "0  RAV4 PRIME  Plug-in Hybrid Electric Vehicle (PHEV)   \n",
       "1        VOLT  Plug-in Hybrid Electric Vehicle (PHEV)   \n",
       "2        LEAF          Battery Electric Vehicle (BEV)   \n",
       "3     BOLT EV          Battery Electric Vehicle (BEV)   \n",
       "4      FUSION  Plug-in Hybrid Electric Vehicle (PHEV)   \n",
       "\n",
       "  Clean Alternative Fuel Vehicle (CAFV) Eligibility  Electric Range  \\\n",
       "0           Clean Alternative Fuel Vehicle Eligible              42   \n",
       "1           Clean Alternative Fuel Vehicle Eligible              38   \n",
       "2           Clean Alternative Fuel Vehicle Eligible              73   \n",
       "3           Clean Alternative Fuel Vehicle Eligible             238   \n",
       "4             Not eligible due to low battery range              26   \n",
       "\n",
       "   Base MSRP  Legislative District  DOL Vehicle ID  \\\n",
       "0          0                   NaN       198968248   \n",
       "1          0                   NaN         5204412   \n",
       "2          0                  15.0       218972519   \n",
       "3          0                  39.0       186750406   \n",
       "4          0                  38.0         2006714   \n",
       "\n",
       "              Vehicle Location        Electric Utility  2020 Census Tract  \n",
       "0    POINT (-81.80023 24.5545)                     NaN        12087972100  \n",
       "1  POINT (-114.57245 35.16815)                     NaN        32003005702  \n",
       "2  POINT (-120.50721 46.60448)              PACIFICORP        53077001602  \n",
       "3   POINT (-121.7515 48.53892)  PUGET SOUND ENERGY INC        53057951101  \n",
       "4  POINT (-122.20596 47.97659)  PUGET SOUND ENERGY INC        53061041500  "
      ]
     },
     "execution_count": 133,
     "metadata": {},
     "output_type": "execute_result"
    }
   ],
   "source": [
    "df.head()"
   ]
  },
  {
   "cell_type": "code",
   "execution_count": 134,
   "id": "f0369cd4",
   "metadata": {},
   "outputs": [
    {
     "data": {
      "text/plain": [
       "(112634, 17)"
      ]
     },
     "execution_count": 134,
     "metadata": {},
     "output_type": "execute_result"
    }
   ],
   "source": [
    "df.shape"
   ]
  },
  {
   "cell_type": "code",
   "execution_count": 135,
   "id": "88d022be",
   "metadata": {},
   "outputs": [
    {
     "name": "stdout",
     "output_type": "stream",
     "text": [
      "<class 'pandas.core.frame.DataFrame'>\n",
      "RangeIndex: 112634 entries, 0 to 112633\n",
      "Data columns (total 17 columns):\n",
      " #   Column                                             Non-Null Count   Dtype  \n",
      "---  ------                                             --------------   -----  \n",
      " 0   VIN (1-10)                                         112634 non-null  object \n",
      " 1   County                                             112634 non-null  object \n",
      " 2   City                                               112634 non-null  object \n",
      " 3   State                                              112634 non-null  object \n",
      " 4   Postal Code                                        112634 non-null  int64  \n",
      " 5   Model Year                                         112634 non-null  int64  \n",
      " 6   Make                                               112634 non-null  object \n",
      " 7   Model                                              112614 non-null  object \n",
      " 8   Electric Vehicle Type                              112634 non-null  object \n",
      " 9   Clean Alternative Fuel Vehicle (CAFV) Eligibility  112634 non-null  object \n",
      " 10  Electric Range                                     112634 non-null  int64  \n",
      " 11  Base MSRP                                          112634 non-null  int64  \n",
      " 12  Legislative District                               112348 non-null  float64\n",
      " 13  DOL Vehicle ID                                     112634 non-null  int64  \n",
      " 14  Vehicle Location                                   112610 non-null  object \n",
      " 15  Electric Utility                                   112191 non-null  object \n",
      " 16  2020 Census Tract                                  112634 non-null  int64  \n",
      "dtypes: float64(1), int64(6), object(10)\n",
      "memory usage: 14.6+ MB\n"
     ]
    }
   ],
   "source": [
    "df.info()"
   ]
  },
  {
   "cell_type": "code",
   "execution_count": 136,
   "id": "ac6a8c61",
   "metadata": {},
   "outputs": [
    {
     "data": {
      "text/html": [
       "<style type=\"text/css\">\n",
       "#T_ad33a_row0_col0, #T_ad33a_row0_col1, #T_ad33a_row0_col2, #T_ad33a_row0_col4, #T_ad33a_row7_col3, #T_ad33a_row7_col5, #T_ad33a_row7_col6 {\n",
       "  background-color: #08306b;\n",
       "  color: #f1f1f1;\n",
       "}\n",
       "#T_ad33a_row0_col3 {\n",
       "  background-color: #dceaf6;\n",
       "  color: #000000;\n",
       "}\n",
       "#T_ad33a_row0_col5, #T_ad33a_row0_col6, #T_ad33a_row1_col2, #T_ad33a_row1_col3, #T_ad33a_row1_col4, #T_ad33a_row2_col1, #T_ad33a_row2_col2, #T_ad33a_row2_col4, #T_ad33a_row3_col0, #T_ad33a_row3_col2, #T_ad33a_row3_col3, #T_ad33a_row3_col4, #T_ad33a_row3_col5, #T_ad33a_row4_col2, #T_ad33a_row4_col3, #T_ad33a_row4_col4, #T_ad33a_row5_col2, #T_ad33a_row5_col3, #T_ad33a_row5_col4, #T_ad33a_row6_col2, #T_ad33a_row6_col3, #T_ad33a_row6_col4, #T_ad33a_row7_col2, #T_ad33a_row7_col4 {\n",
       "  background-color: #f7fbff;\n",
       "  color: #000000;\n",
       "}\n",
       "#T_ad33a_row1_col0, #T_ad33a_row4_col0, #T_ad33a_row5_col0 {\n",
       "  background-color: #09529d;\n",
       "  color: #f1f1f1;\n",
       "}\n",
       "#T_ad33a_row1_col1, #T_ad33a_row3_col1, #T_ad33a_row4_col1, #T_ad33a_row5_col1, #T_ad33a_row6_col1, #T_ad33a_row7_col1 {\n",
       "  background-color: #f4f9fe;\n",
       "  color: #000000;\n",
       "}\n",
       "#T_ad33a_row1_col5 {\n",
       "  background-color: #8dc1dd;\n",
       "  color: #000000;\n",
       "}\n",
       "#T_ad33a_row1_col6 {\n",
       "  background-color: #083e81;\n",
       "  color: #f1f1f1;\n",
       "}\n",
       "#T_ad33a_row2_col0 {\n",
       "  background-color: #f5fafe;\n",
       "  color: #000000;\n",
       "}\n",
       "#T_ad33a_row2_col3 {\n",
       "  background-color: #f5f9fe;\n",
       "  color: #000000;\n",
       "}\n",
       "#T_ad33a_row2_col5 {\n",
       "  background-color: #d0e2f2;\n",
       "  color: #000000;\n",
       "}\n",
       "#T_ad33a_row2_col6 {\n",
       "  background-color: #f2f7fd;\n",
       "  color: #000000;\n",
       "}\n",
       "#T_ad33a_row3_col6 {\n",
       "  background-color: #f3f8fe;\n",
       "  color: #000000;\n",
       "}\n",
       "#T_ad33a_row4_col5 {\n",
       "  background-color: #b3d3e8;\n",
       "  color: #000000;\n",
       "}\n",
       "#T_ad33a_row4_col6, #T_ad33a_row5_col6, #T_ad33a_row6_col6 {\n",
       "  background-color: #083d7f;\n",
       "  color: #f1f1f1;\n",
       "}\n",
       "#T_ad33a_row5_col5 {\n",
       "  background-color: #94c4df;\n",
       "  color: #000000;\n",
       "}\n",
       "#T_ad33a_row6_col0 {\n",
       "  background-color: #08519c;\n",
       "  color: #f1f1f1;\n",
       "}\n",
       "#T_ad33a_row6_col5 {\n",
       "  background-color: #7cb7da;\n",
       "  color: #000000;\n",
       "}\n",
       "#T_ad33a_row7_col0 {\n",
       "  background-color: #084e98;\n",
       "  color: #f1f1f1;\n",
       "}\n",
       "</style>\n",
       "<table id=\"T_ad33a_\">\n",
       "  <thead>\n",
       "    <tr>\n",
       "      <th class=\"blank level0\" >&nbsp;</th>\n",
       "      <th class=\"col_heading level0 col0\" >Postal Code</th>\n",
       "      <th class=\"col_heading level0 col1\" >Model Year</th>\n",
       "      <th class=\"col_heading level0 col2\" >Electric Range</th>\n",
       "      <th class=\"col_heading level0 col3\" >Base MSRP</th>\n",
       "      <th class=\"col_heading level0 col4\" >Legislative District</th>\n",
       "      <th class=\"col_heading level0 col5\" >DOL Vehicle ID</th>\n",
       "      <th class=\"col_heading level0 col6\" >2020 Census Tract</th>\n",
       "    </tr>\n",
       "  </thead>\n",
       "  <tbody>\n",
       "    <tr>\n",
       "      <th id=\"T_ad33a_level0_row0\" class=\"row_heading level0 row0\" >count</th>\n",
       "      <td id=\"T_ad33a_row0_col0\" class=\"data row0 col0\" >112634.000000</td>\n",
       "      <td id=\"T_ad33a_row0_col1\" class=\"data row0 col1\" >112634.000000</td>\n",
       "      <td id=\"T_ad33a_row0_col2\" class=\"data row0 col2\" >112634.000000</td>\n",
       "      <td id=\"T_ad33a_row0_col3\" class=\"data row0 col3\" >112634.000000</td>\n",
       "      <td id=\"T_ad33a_row0_col4\" class=\"data row0 col4\" >112348.000000</td>\n",
       "      <td id=\"T_ad33a_row0_col5\" class=\"data row0 col5\" >112634.000000</td>\n",
       "      <td id=\"T_ad33a_row0_col6\" class=\"data row0 col6\" >112634.000000</td>\n",
       "    </tr>\n",
       "    <tr>\n",
       "      <th id=\"T_ad33a_level0_row1\" class=\"row_heading level0 row1\" >mean</th>\n",
       "      <td id=\"T_ad33a_row1_col0\" class=\"data row1 col0\" >98156.226850</td>\n",
       "      <td id=\"T_ad33a_row1_col1\" class=\"data row1 col1\" >2019.003365</td>\n",
       "      <td id=\"T_ad33a_row1_col2\" class=\"data row1 col2\" >87.812987</td>\n",
       "      <td id=\"T_ad33a_row1_col3\" class=\"data row1 col3\" >1793.439681</td>\n",
       "      <td id=\"T_ad33a_row1_col4\" class=\"data row1 col4\" >29.805604</td>\n",
       "      <td id=\"T_ad33a_row1_col5\" class=\"data row1 col5\" >199456680.022187</td>\n",
       "      <td id=\"T_ad33a_row1_col6\" class=\"data row1 col6\" >52966495754.096825</td>\n",
       "    </tr>\n",
       "    <tr>\n",
       "      <th id=\"T_ad33a_level0_row2\" class=\"row_heading level0 row2\" >std</th>\n",
       "      <td id=\"T_ad33a_row2_col0\" class=\"data row2 col0\" >2648.733064</td>\n",
       "      <td id=\"T_ad33a_row2_col1\" class=\"data row2 col1\" >2.892364</td>\n",
       "      <td id=\"T_ad33a_row2_col2\" class=\"data row2 col2\" >102.334216</td>\n",
       "      <td id=\"T_ad33a_row2_col3\" class=\"data row2 col3\" >10783.753486</td>\n",
       "      <td id=\"T_ad33a_row2_col4\" class=\"data row2 col4\" >14.700545</td>\n",
       "      <td id=\"T_ad33a_row2_col5\" class=\"data row2 col5\" >93984269.925998</td>\n",
       "      <td id=\"T_ad33a_row2_col6\" class=\"data row2 col6\" >1699104499.621227</td>\n",
       "    </tr>\n",
       "    <tr>\n",
       "      <th id=\"T_ad33a_level0_row3\" class=\"row_heading level0 row3\" >min</th>\n",
       "      <td id=\"T_ad33a_row3_col0\" class=\"data row3 col0\" >1730.000000</td>\n",
       "      <td id=\"T_ad33a_row3_col1\" class=\"data row3 col1\" >1997.000000</td>\n",
       "      <td id=\"T_ad33a_row3_col2\" class=\"data row3 col2\" >0.000000</td>\n",
       "      <td id=\"T_ad33a_row3_col3\" class=\"data row3 col3\" >0.000000</td>\n",
       "      <td id=\"T_ad33a_row3_col4\" class=\"data row3 col4\" >1.000000</td>\n",
       "      <td id=\"T_ad33a_row3_col5\" class=\"data row3 col5\" >4777.000000</td>\n",
       "      <td id=\"T_ad33a_row3_col6\" class=\"data row3 col6\" >1101001400.000000</td>\n",
       "    </tr>\n",
       "    <tr>\n",
       "      <th id=\"T_ad33a_level0_row4\" class=\"row_heading level0 row4\" >25%</th>\n",
       "      <td id=\"T_ad33a_row4_col0\" class=\"data row4 col0\" >98052.000000</td>\n",
       "      <td id=\"T_ad33a_row4_col1\" class=\"data row4 col1\" >2017.000000</td>\n",
       "      <td id=\"T_ad33a_row4_col2\" class=\"data row4 col2\" >0.000000</td>\n",
       "      <td id=\"T_ad33a_row4_col3\" class=\"data row4 col3\" >0.000000</td>\n",
       "      <td id=\"T_ad33a_row4_col4\" class=\"data row4 col4\" >18.000000</td>\n",
       "      <td id=\"T_ad33a_row4_col5\" class=\"data row4 col5\" >148414150.000000</td>\n",
       "      <td id=\"T_ad33a_row4_col6\" class=\"data row4 col6\" >53033008500.000000</td>\n",
       "    </tr>\n",
       "    <tr>\n",
       "      <th id=\"T_ad33a_level0_row5\" class=\"row_heading level0 row5\" >50%</th>\n",
       "      <td id=\"T_ad33a_row5_col0\" class=\"data row5 col0\" >98119.000000</td>\n",
       "      <td id=\"T_ad33a_row5_col1\" class=\"data row5 col1\" >2020.000000</td>\n",
       "      <td id=\"T_ad33a_row5_col2\" class=\"data row5 col2\" >32.000000</td>\n",
       "      <td id=\"T_ad33a_row5_col3\" class=\"data row5 col3\" >0.000000</td>\n",
       "      <td id=\"T_ad33a_row5_col4\" class=\"data row5 col4\" >34.000000</td>\n",
       "      <td id=\"T_ad33a_row5_col5\" class=\"data row5 col5\" >192389623.500000</td>\n",
       "      <td id=\"T_ad33a_row5_col6\" class=\"data row5 col6\" >53033029305.000000</td>\n",
       "    </tr>\n",
       "    <tr>\n",
       "      <th id=\"T_ad33a_level0_row6\" class=\"row_heading level0 row6\" >75%</th>\n",
       "      <td id=\"T_ad33a_row6_col0\" class=\"data row6 col0\" >98370.000000</td>\n",
       "      <td id=\"T_ad33a_row6_col1\" class=\"data row6 col1\" >2022.000000</td>\n",
       "      <td id=\"T_ad33a_row6_col2\" class=\"data row6 col2\" >208.000000</td>\n",
       "      <td id=\"T_ad33a_row6_col3\" class=\"data row6 col3\" >0.000000</td>\n",
       "      <td id=\"T_ad33a_row6_col4\" class=\"data row6 col4\" >43.000000</td>\n",
       "      <td id=\"T_ad33a_row6_col5\" class=\"data row6 col5\" >219189879.500000</td>\n",
       "      <td id=\"T_ad33a_row6_col6\" class=\"data row6 col6\" >53053072506.000000</td>\n",
       "    </tr>\n",
       "    <tr>\n",
       "      <th id=\"T_ad33a_level0_row7\" class=\"row_heading level0 row7\" >max</th>\n",
       "      <td id=\"T_ad33a_row7_col0\" class=\"data row7 col0\" >99701.000000</td>\n",
       "      <td id=\"T_ad33a_row7_col1\" class=\"data row7 col1\" >2023.000000</td>\n",
       "      <td id=\"T_ad33a_row7_col2\" class=\"data row7 col2\" >337.000000</td>\n",
       "      <td id=\"T_ad33a_row7_col3\" class=\"data row7 col3\" >845000.000000</td>\n",
       "      <td id=\"T_ad33a_row7_col4\" class=\"data row7 col4\" >49.000000</td>\n",
       "      <td id=\"T_ad33a_row7_col5\" class=\"data row7 col5\" >479254772.000000</td>\n",
       "      <td id=\"T_ad33a_row7_col6\" class=\"data row7 col6\" >56033000100.000000</td>\n",
       "    </tr>\n",
       "  </tbody>\n",
       "</table>\n"
      ],
      "text/plain": [
       "<pandas.io.formats.style.Styler at 0x29563460520>"
      ]
     },
     "execution_count": 136,
     "metadata": {},
     "output_type": "execute_result"
    }
   ],
   "source": [
    "df.describe().style.background_gradient(cmap='Blues')"
   ]
  },
  {
   "cell_type": "code",
   "execution_count": 137,
   "id": "bb6066b8",
   "metadata": {},
   "outputs": [
    {
     "data": {
      "text/plain": [
       "Electric Utility                                     443\n",
       "Legislative District                                 286\n",
       "Vehicle Location                                      24\n",
       "Model                                                 20\n",
       "VIN (1-10)                                             0\n",
       "Clean Alternative Fuel Vehicle (CAFV) Eligibility      0\n",
       "DOL Vehicle ID                                         0\n",
       "Base MSRP                                              0\n",
       "Electric Range                                         0\n",
       "Electric Vehicle Type                                  0\n",
       "County                                                 0\n",
       "Make                                                   0\n",
       "Model Year                                             0\n",
       "Postal Code                                            0\n",
       "State                                                  0\n",
       "City                                                   0\n",
       "2020 Census Tract                                      0\n",
       "dtype: int64"
      ]
     },
     "execution_count": 137,
     "metadata": {},
     "output_type": "execute_result"
    }
   ],
   "source": [
    "df.isnull().sum().sort_values(ascending = False)"
   ]
  },
  {
   "cell_type": "code",
   "execution_count": 138,
   "id": "fc72fd88",
   "metadata": {},
   "outputs": [],
   "source": [
    "import matplotlib.pyplot as plt\n",
    "import seaborn as sns"
   ]
  },
  {
   "cell_type": "code",
   "execution_count": 139,
   "id": "a2dcb4bc",
   "metadata": {},
   "outputs": [
    {
     "data": {
      "text/plain": [
       "Text(0.5, 1.0, 'Missing null values')"
      ]
     },
     "execution_count": 139,
     "metadata": {},
     "output_type": "execute_result"
    },
    {
     "data": {
      "image/png": "[encoded data removed]",
      "text/plain": [
       "<Figure size 1080x432 with 1 Axes>"
      ]
     },
     "metadata": {},
     "output_type": "display_data"
    }
   ],
   "source": [
    "plt.rcParams['figure.figsize'] = (15,6)\n",
    "sns.heatmap(df.isnull(),yticklabels = False, cbar = False , cmap = 'viridis')\n",
    "plt.title(\"Missing null values\")"
   ]
  },
  {
   "cell_type": "code",
   "execution_count": 140,
   "id": "4194f675",
   "metadata": {},
   "outputs": [
    {
     "data": {
      "text/plain": [
       "Electric Utility                                     0.393309\n",
       "Legislative District                                 0.253920\n",
       "Vehicle Location                                     0.021308\n",
       "Model                                                0.017757\n",
       "VIN (1-10)                                           0.000000\n",
       "Clean Alternative Fuel Vehicle (CAFV) Eligibility    0.000000\n",
       "DOL Vehicle ID                                       0.000000\n",
       "Base MSRP                                            0.000000\n",
       "Electric Range                                       0.000000\n",
       "Electric Vehicle Type                                0.000000\n",
       "County                                               0.000000\n",
       "Make                                                 0.000000\n",
       "Model Year                                           0.000000\n",
       "Postal Code                                          0.000000\n",
       "State                                                0.000000\n",
       "City                                                 0.000000\n",
       "2020 Census Tract                                    0.000000\n",
       "dtype: float64"
      ]
     },
     "execution_count": 140,
     "metadata": {},
     "output_type": "execute_result"
    }
   ],
   "source": [
    "missing_percentage = (df.isnull().sum().sort_values(ascending = False)/len(df))*100\n",
    "missing_percentage"
   ]
  },
  {
   "cell_type": "code",
   "execution_count": 141,
   "id": "39082c90",
   "metadata": {},
   "outputs": [],
   "source": [
    "df['Electric Utility'] = df['Electric Utility'].fillna('Utility Not Avalilable')\n",
    "df['Legislative District'] = df['Legislative District'].fillna('Unknown')\n",
    "df['Vehicle Location'] = df['Vehicle Location'].fillna('Unknown')\n",
    "df['Model'] = df['Model'].fillna('Unknown')\n",
    "df['2020 Census Tract'] = df['2020 Census Tract'].fillna('Unknown')\n",
    "df['City'] = df['City'].fillna('Unknown')\n",
    "\n",
    "# fill null values in the 'Postal Code' column with the mean salary\n",
    "mean_postcode = df['Postal Code'].mean()\n",
    "df['Postal Code'] = df['Postal Code'].fillna(mean_postcode)\n",
    "\n",
    "\n",
    "df['County'] = df['County'].fillna('Unknown')"
   ]
  },
  {
   "cell_type": "code",
   "execution_count": 142,
   "id": "fe73e37c",
   "metadata": {},
   "outputs": [
    {
     "data": {
      "text/plain": [
       "VIN (1-10)                                           0.0\n",
       "Clean Alternative Fuel Vehicle (CAFV) Eligibility    0.0\n",
       "Electric Utility                                     0.0\n",
       "Vehicle Location                                     0.0\n",
       "DOL Vehicle ID                                       0.0\n",
       "Legislative District                                 0.0\n",
       "Base MSRP                                            0.0\n",
       "Electric Range                                       0.0\n",
       "Electric Vehicle Type                                0.0\n",
       "County                                               0.0\n",
       "Model                                                0.0\n",
       "Make                                                 0.0\n",
       "Model Year                                           0.0\n",
       "Postal Code                                          0.0\n",
       "State                                                0.0\n",
       "City                                                 0.0\n",
       "2020 Census Tract                                    0.0\n",
       "dtype: float64"
      ]
     },
     "execution_count": 142,
     "metadata": {},
     "output_type": "execute_result"
    }
   ],
   "source": [
    "missing_percentage1 = (df.isnull().sum().sort_values(ascending = False)/len(df))*100\n",
    "missing_percentage1"
   ]
  },
  {
   "cell_type": "code",
   "execution_count": 143,
   "id": "2153a4ce",
   "metadata": {},
   "outputs": [],
   "source": [
    "df['Postal Code'] = df['Postal Code'].astype(int)\n"
   ]
  },
  {
   "cell_type": "code",
   "execution_count": 144,
   "id": "78f2022d",
   "metadata": {},
   "outputs": [
    {
     "name": "stdout",
     "output_type": "stream",
     "text": [
      "<class 'pandas.core.frame.DataFrame'>\n",
      "RangeIndex: 112634 entries, 0 to 112633\n",
      "Data columns (total 17 columns):\n",
      " #   Column                                             Non-Null Count   Dtype \n",
      "---  ------                                             --------------   ----- \n",
      " 0   VIN (1-10)                                         112634 non-null  object\n",
      " 1   County                                             112634 non-null  object\n",
      " 2   City                                               112634 non-null  object\n",
      " 3   State                                              112634 non-null  object\n",
      " 4   Postal Code                                        112634 non-null  int32 \n",
      " 5   Model Year                                         112634 non-null  int64 \n",
      " 6   Make                                               112634 non-null  object\n",
      " 7   Model                                              112634 non-null  object\n",
      " 8   Electric Vehicle Type                              112634 non-null  object\n",
      " 9   Clean Alternative Fuel Vehicle (CAFV) Eligibility  112634 non-null  object\n",
      " 10  Electric Range                                     112634 non-null  int64 \n",
      " 11  Base MSRP                                          112634 non-null  int64 \n",
      " 12  Legislative District                               112634 non-null  object\n",
      " 13  DOL Vehicle ID                                     112634 non-null  int64 \n",
      " 14  Vehicle Location                                   112634 non-null  object\n",
      " 15  Electric Utility                                   112634 non-null  object\n",
      " 16  2020 Census Tract                                  112634 non-null  int64 \n",
      "dtypes: int32(1), int64(5), object(11)\n",
      "memory usage: 14.2+ MB\n"
     ]
    }
   ],
   "source": [
    "df.info()"
   ]
  },
  {
   "cell_type": "code",
   "execution_count": 145,
   "id": "51f917ce",
   "metadata": {},
   "outputs": [],
   "source": [
    "from pandas import Index"
   ]
  },
  {
   "cell_type": "code",
   "execution_count": 146,
   "id": "5ba1654c",
   "metadata": {},
   "outputs": [
    {
     "name": "stdout",
     "output_type": "stream",
     "text": [
      "Index(['VIN', 'County', 'City', 'State', 'PostalCode', 'ModelYear', 'Make',\n",
      "       'Model', 'Electric_Vehicle_Type', 'CAFV_Eligibility', 'Electric_Range',\n",
      "       'Base_MSRP', 'Legislative_District', 'DOL_Vehicle_ID',\n",
      "       'Vehicle_Location', 'Electric_Utility', '2020_Census_Tract'],\n",
      "      dtype='object')\n"
     ]
    },
    {
     "data": {
      "text/plain": [
       "Index(['VIN', 'County', 'City', 'State', 'PostalCode', 'ModelYear', 'Make',\n",
       "       'Model', 'Electric_Vehicle_Type', 'CAFV_Eligibility', 'Electric_Range',\n",
       "       'Base_MSRP', 'Legislative_District', 'DOL_Vehicle_ID',\n",
       "       'Vehicle_Location', 'Electric_Utility', '2020_Census_Tract'],\n",
       "      dtype='object')"
      ]
     },
     "execution_count": 146,
     "metadata": {},
     "output_type": "execute_result"
    }
   ],
   "source": [
    "# rename columns \n",
    "df = df.rename(columns={'Postal Code': 'PostalCode', 'Model Year': 'ModelYear', 'Electric Vehicle Type': 'Electric_Vehicle_Type', \n",
    "                        'Clean Alternative Fuel Vehicle (CAFV) Eligibility': 'CAFV_Eligibility',\n",
    "                        'Electric Range':'Electric_Range', 'Base MSRP': 'Base_MSRP', 'Legislative District':'Legislative_District',\n",
    "                        'DOL Vehicle ID': 'DOL_Vehicle_ID',\n",
    "                        'Vehicle Location':'Vehicle_Location',\n",
    "                        'Electric Utility':'Electric_Utility',\n",
    "                        '2020 Census Tract':'2020_Census_Tract',\n",
    "                        'VIN (1-10)':'VIN'})\n",
    "print(df.columns)\n",
    "Index(['VIN', 'County', 'City', 'State', 'PostalCode', 'ModelYear', 'Make',\n",
    "       'Model', 'Electric_Vehicle_Type', 'CAFV_Eligibility', 'Electric_Range',\n",
    "       'Base_MSRP', 'Legislative_District', 'DOL_Vehicle_ID',\n",
    "       'Vehicle_Location', 'Electric_Utility', '2020_Census_Tract'],\n",
    "      dtype='object')"
   ]
  },
  {
   "cell_type": "code",
   "execution_count": 147,
   "id": "da786e72",
   "metadata": {},
   "outputs": [
    {
     "data": {
      "text/plain": [
       "VIN                      0\n",
       "CAFV_Eligibility         0\n",
       "Electric_Utility         0\n",
       "Vehicle_Location         0\n",
       "DOL_Vehicle_ID           0\n",
       "Legislative_District     0\n",
       "Base_MSRP                0\n",
       "Electric_Range           0\n",
       "Electric_Vehicle_Type    0\n",
       "County                   0\n",
       "Model                    0\n",
       "Make                     0\n",
       "ModelYear                0\n",
       "PostalCode               0\n",
       "State                    0\n",
       "City                     0\n",
       "2020_Census_Tract        0\n",
       "dtype: int64"
      ]
     },
     "execution_count": 147,
     "metadata": {},
     "output_type": "execute_result"
    }
   ],
   "source": [
    "##have a view of refreshed dataset again\n",
    "df.isnull().sum().sort_values(ascending = False)"
   ]
  },
  {
   "cell_type": "code",
   "execution_count": 148,
   "id": "1048550b",
   "metadata": {},
   "outputs": [
    {
     "data": {
      "text/plain": [
       "False"
      ]
     },
     "execution_count": 148,
     "metadata": {},
     "output_type": "execute_result"
    }
   ],
   "source": [
    "df.duplicated().any()"
   ]
  },
  {
   "cell_type": "code",
   "execution_count": 149,
   "id": "d87332b5",
   "metadata": {},
   "outputs": [
    {
     "data": {
      "text/plain": [
       "Index(['VIN', 'County', 'City', 'State', 'PostalCode', 'ModelYear', 'Make',\n",
       "       'Model', 'Electric_Vehicle_Type', 'CAFV_Eligibility', 'Electric_Range',\n",
       "       'Base_MSRP', 'Legislative_District', 'DOL_Vehicle_ID',\n",
       "       'Vehicle_Location', 'Electric_Utility', '2020_Census_Tract'],\n",
       "      dtype='object')"
      ]
     },
     "execution_count": 149,
     "metadata": {},
     "output_type": "execute_result"
    }
   ],
   "source": [
    "df.columns.unique()"
   ]
  },
  {
   "cell_type": "code",
   "execution_count": 150,
   "id": "eb79ce8f",
   "metadata": {},
   "outputs": [],
   "source": [
    "any_duplicates = df.duplicated(subset=['VIN', 'County', 'City', 'State', 'PostalCode', 'ModelYear', 'Make',\n",
    "       'Model', 'Electric_Vehicle_Type', 'CAFV_Eligibility', 'Electric_Range',\n",
    "       'Base_MSRP', 'Legislative_District', 'DOL_Vehicle_ID',\n",
    "       'Vehicle_Location', 'Electric_Utility', '2020_Census_Tract']).any()"
   ]
  },
  {
   "cell_type": "code",
   "execution_count": 151,
   "id": "89e11570",
   "metadata": {},
   "outputs": [
    {
     "data": {
      "text/plain": [
       "False"
      ]
     },
     "execution_count": 151,
     "metadata": {},
     "output_type": "execute_result"
    }
   ],
   "source": [
    "any_duplicates"
   ]
  },
  {
   "cell_type": "code",
   "execution_count": 152,
   "id": "051a4491",
   "metadata": {},
   "outputs": [
    {
     "data": {
      "text/plain": [
       "Text(0.5, 1.0, 'Electric Vehicle Correlation Heatmap')"
      ]
     },
     "execution_count": 152,
     "metadata": {},
     "output_type": "execute_result"
    },
    {
     "data": {
      "image/png": "[encoded data removed]",
      "text/plain": [
       "<Figure size 1080x432 with 2 Axes>"
      ]
     },
     "metadata": {},
     "output_type": "display_data"
    }
   ],
   "source": [
    "#checking the corrlation of all the attributes with target\n",
    "plt.figure(figsize=(15, 6))\n",
    "cmap = \"cividis\"\n",
    "heatmap=sns.heatmap(df.corr(),cmap=cmap, annot=True)\n",
    "heatmap.set_title('Electric Vehicle Correlation Heatmap', fontdict={'fontsize':12}, pad=12)"
   ]
  },
  {
   "cell_type": "code",
   "execution_count": 153,
   "id": "639be8e6",
   "metadata": {},
   "outputs": [
    {
     "data": {
      "text/plain": [
       "Text(0, 0.5, 'Count')"
      ]
     },
     "execution_count": 153,
     "metadata": {},
     "output_type": "execute_result"
    },
    {
     "data": {
      "image/png": "[encoded data removed]",
      "text/plain": [
       "<Figure size 1080x432 with 1 Axes>"
      ]
     },
     "metadata": {},
     "output_type": "display_data"
    }
   ],
   "source": [
    "# Create a histogram of the PostalCode variable\n",
    "\n",
    "plt.hist(df[\"ModelYear\"],bins=10,edgecolor='blue')\n",
    "plt.xlabel(\"ModelYear\")\n",
    "plt.ylabel(\"Count\")\n"
   ]
  },
  {
   "cell_type": "code",
   "execution_count": 154,
   "id": "c1466165",
   "metadata": {},
   "outputs": [
    {
     "data": {
      "text/plain": [
       "Text(0, 0.5, 'Count')"
      ]
     },
     "execution_count": 154,
     "metadata": {},
     "output_type": "execute_result"
    },
    {
     "data": {
      "image/png": "[encoded data removed]",
      "text/plain": [
       "<Figure size 1080x432 with 1 Axes>"
      ]
     },
     "metadata": {},
     "output_type": "display_data"
    }
   ],
   "source": [
    "plt.hist(df[\"Electric_Range\"],bins=10,edgecolor='blue')\n",
    "plt.xlabel(\"Electric_Range\")\n",
    "plt.ylabel(\"Count\")\n"
   ]
  },
  {
   "cell_type": "code",
   "execution_count": 155,
   "id": "12b8d27b",
   "metadata": {},
   "outputs": [
    {
     "data": {
      "text/plain": [
       "Text(0, 0.5, 'Count')"
      ]
     },
     "execution_count": 155,
     "metadata": {},
     "output_type": "execute_result"
    },
    {
     "data": {
      "image/png": "[encoded data removed]",
      "text/plain": [
       "<Figure size 1080x432 with 1 Axes>"
      ]
     },
     "metadata": {},
     "output_type": "display_data"
    }
   ],
   "source": [
    "plt.hist(df[\"Base_MSRP\"],bins=20,edgecolor='blue')\n",
    "plt.xlabel(\"Base_MSRP\")\n",
    "plt.ylabel(\"Count\")"
   ]
  },
  {
   "cell_type": "code",
   "execution_count": 156,
   "id": "7eaa72c9",
   "metadata": {},
   "outputs": [
    {
     "data": {
      "text/plain": [
       "Text(0, 0.5, 'Count')"
      ]
     },
     "execution_count": 156,
     "metadata": {},
     "output_type": "execute_result"
    },
    {
     "data": {
      "image/png": "[encoded data removed]",
      "text/plain": [
       "<Figure size 1080x432 with 1 Axes>"
      ]
     },
     "metadata": {},
     "output_type": "display_data"
    }
   ],
   "source": [
    "plt.hist(df[\"DOL_Vehicle_ID\"],bins=20,edgecolor='blue')\n",
    "plt.xlabel(\"DOL_Vehicle_ID\")\n",
    "plt.ylabel(\"Count\")"
   ]
  },
  {
   "cell_type": "code",
   "execution_count": 157,
   "id": "398322eb",
   "metadata": {},
   "outputs": [
    {
     "data": {
      "text/plain": [
       "array([     0,  31950,  55700,  33950,  69900,  36900,  43700,  34995,\n",
       "        39995,  32250,  44100, 110950,  59900,  52900,  54950, 102000,\n",
       "        45600,  53400,  64950, 184400,  90700,  36800,  81100,  75095,\n",
       "        52650,  91250, 109000,  98950,  89100, 845000], dtype=int64)"
      ]
     },
     "execution_count": 157,
     "metadata": {},
     "output_type": "execute_result"
    }
   ],
   "source": [
    "df['Base_MSRP'].unique()\n"
   ]
  },
  {
   "cell_type": "code",
   "execution_count": 158,
   "id": "01a8f626",
   "metadata": {},
   "outputs": [
    {
     "name": "stdout",
     "output_type": "stream",
     "text": [
      "<class 'pandas.core.frame.DataFrame'>\n",
      "RangeIndex: 112634 entries, 0 to 112633\n",
      "Data columns (total 16 columns):\n",
      " #   Column                 Non-Null Count   Dtype \n",
      "---  ------                 --------------   ----- \n",
      " 0   VIN                    112634 non-null  object\n",
      " 1   County                 112634 non-null  object\n",
      " 2   City                   112634 non-null  object\n",
      " 3   State                  112634 non-null  object\n",
      " 4   PostalCode             112634 non-null  int32 \n",
      " 5   ModelYear              112634 non-null  int64 \n",
      " 6   Make                   112634 non-null  object\n",
      " 7   Model                  112634 non-null  object\n",
      " 8   Electric_Vehicle_Type  112634 non-null  object\n",
      " 9   CAFV_Eligibility       112634 non-null  object\n",
      " 10  Electric_Range         112634 non-null  int64 \n",
      " 11  Legislative_District   112634 non-null  object\n",
      " 12  DOL_Vehicle_ID         112634 non-null  int64 \n",
      " 13  Vehicle_Location       112634 non-null  object\n",
      " 14  Electric_Utility       112634 non-null  object\n",
      " 15  2020_Census_Tract      112634 non-null  int64 \n",
      "dtypes: int32(1), int64(4), object(11)\n",
      "memory usage: 13.3+ MB\n"
     ]
    }
   ],
   "source": [
    "df.drop('Base_MSRP', axis=1, inplace=True)\n",
    "df.info()"
   ]
  },
  {
   "cell_type": "code",
   "execution_count": 159,
   "id": "dee40aee",
   "metadata": {},
   "outputs": [
    {
     "data": {
      "text/plain": [
       "array(['Utility Not Avalilable', 'PACIFICORP', 'PUGET SOUND ENERGY INC',\n",
       "       'PUD NO 2 OF GRANT COUNTY',\n",
       "       'PUGET SOUND ENERGY INC||CITY OF TACOMA - (WA)',\n",
       "       'CITY OF SEATTLE - (WA)|CITY OF TACOMA - (WA)', 'AVISTA CORP',\n",
       "       'MODERN ELECTRIC WATER COMPANY',\n",
       "       'BONNEVILLE POWER ADMINISTRATION||PUD NO 1 OF COWLITZ COUNTY',\n",
       "       'BONNEVILLE POWER ADMINISTRATION||CITY OF TACOMA - (WA)||PENINSULA LIGHT COMPANY',\n",
       "       'BONNEVILLE POWER ADMINISTRATION||CITY OF ELLENSBURG - (WA)',\n",
       "       'BONNEVILLE POWER ADMINISTRATION||PUD NO 1 OF GRAYS HARBOR COUNTY',\n",
       "       'BONNEVILLE POWER ADMINISTRATION||PUD NO 1 OF CLARK COUNTY - (WA)',\n",
       "       'BONNEVILLE POWER ADMINISTRATION||AVISTA CORP||INLAND POWER & LIGHT COMPANY',\n",
       "       'BONNEVILLE POWER ADMINISTRATION||PUD 1 OF SNOHOMISH COUNTY',\n",
       "       'PUD NO 1 OF CHELAN COUNTY',\n",
       "       'BONNEVILLE POWER ADMINISTRATION||VERA IRRIGATION DISTRICT #15',\n",
       "       'BONNEVILLE POWER ADMINISTRATION||CITY OF TACOMA - (WA)||ELMHURST MUTUAL POWER & LIGHT CO|PENINSULA LIGHT COMPANY',\n",
       "       'PUGET SOUND ENERGY INC||PUD NO 1 OF WHATCOM COUNTY',\n",
       "       'BONNEVILLE POWER ADMINISTRATION||CITY OF RICHLAND - (WA)',\n",
       "       'BONNEVILLE POWER ADMINISTRATION||PUD NO 1 OF BENTON COUNTY',\n",
       "       'BONNEVILLE POWER ADMINISTRATION||CITY OF TACOMA - (WA)||PUD NO 3 OF MASON COUNTY',\n",
       "       'BONNEVILLE POWER ADMINISTRATION||ORCAS POWER & LIGHT COOP',\n",
       "       'BONNEVILLE POWER ADMINISTRATION||CITY OF TACOMA - (WA)||PUD NO 1 OF LEWIS COUNTY',\n",
       "       'BONNEVILLE POWER ADMINISTRATION||PUGET SOUND ENERGY INC||PUD NO 1 OF JEFFERSON COUNTY',\n",
       "       'BONNEVILLE POWER ADMINISTRATION||PUD NO 1 OF CLALLAM COUNTY',\n",
       "       'PUD NO 1 OF DOUGLAS COUNTY',\n",
       "       'BONNEVILLE POWER ADMINISTRATION||PUD NO 1 OF KLICKITAT COUNTY',\n",
       "       'BONNEVILLE POWER ADMINISTRATION||TOWN OF STEILACOOM|CITY OF TACOMA - (WA)||PENINSULA LIGHT COMPANY',\n",
       "       'BONNEVILLE POWER ADMINISTRATION||INLAND POWER & LIGHT COMPANY',\n",
       "       'BONNEVILLE POWER ADMINISTRATION||PUD NO 1 OF SKAMANIA CO',\n",
       "       'BONNEVILLE POWER ADMINISTRATION||CITY OF TACOMA - (WA)||LAKEVIEW LIGHT & POWER|PENINSULA LIGHT COMPANY',\n",
       "       'BONNEVILLE POWER ADMINISTRATION||AVISTA CORP||BIG BEND ELECTRIC COOP, INC',\n",
       "       'BONNEVILLE POWER ADMINISTRATION||CITY OF TACOMA - (WA)||PUD NO 1 OF MASON COUNTY',\n",
       "       'BONNEVILLE POWER ADMINISTRATION||PUD NO 1 OF FRANKLIN COUNTY',\n",
       "       'PUD NO 1 OF OKANOGAN COUNTY',\n",
       "       'BONNEVILLE POWER ADMINISTRATION||CITY OF MCCLEARY - (WA)',\n",
       "       'BONNEVILLE POWER ADMINISTRATION||PACIFICORP||BENTON RURAL ELECTRIC ASSN',\n",
       "       'BONNEVILLE POWER ADMINISTRATION||CITY OF PORT ANGELES - (WA)',\n",
       "       'OKANOGAN COUNTY ELEC COOP, INC',\n",
       "       'BONNEVILLE POWER ADMINISTRATION||CITY OF TACOMA - (WA)||OHOP MUTUAL LIGHT COMPANY, INC|PENINSULA LIGHT COMPANY',\n",
       "       'BONNEVILLE POWER ADMINISTRATION||AVISTA CORP||PUD NO 1 OF ASOTIN COUNTY',\n",
       "       'BONNEVILLE POWER ADMINISTRATION||PUD NO 1 OF FERRY COUNTY',\n",
       "       'BONNEVILLE POWER ADMINISTRATION||CITY OF MILTON - (WA)|CITY OF TACOMA - (WA)',\n",
       "       'BONNEVILLE POWER ADMINISTRATION||CITY OF TACOMA - (WA)||PARKLAND LIGHT & WATER COMPANY|PENINSULA LIGHT COMPANY',\n",
       "       'BONNEVILLE POWER ADMINISTRATION||PUD NO 2 OF PACIFIC COUNTY',\n",
       "       'CITY OF TACOMA - (WA)||TANNER ELECTRIC COOP',\n",
       "       'CITY OF BLAINE - (WA)||PUD NO 1 OF WHATCOM COUNTY',\n",
       "       'BONNEVILLE POWER ADMINISTRATION||PACIFICORP||PUD NO 1 OF CLARK COUNTY - (WA)',\n",
       "       'BONNEVILLE POWER ADMINISTRATION||COLUMBIA RURAL ELEC ASSN, INC',\n",
       "       'BONNEVILLE POWER ADMINISTRATION||PACIFICORP||COLUMBIA RURAL ELEC ASSN, INC',\n",
       "       'BONNEVILLE POWER ADMINISTRATION||CITY OF CENTRALIA - (WA)|CITY OF TACOMA - (WA)',\n",
       "       'PUD NO 1 OF WHATCOM COUNTY',\n",
       "       'BONNEVILLE POWER ADMINISTRATION||PUD NO 1 OF WAHKIAKUM COUNTY',\n",
       "       'CITY OF CHENEY - (WA)', 'CITY OF CHEWELAH',\n",
       "       'BONNEVILLE POWER ADMINISTRATION||BENTON RURAL ELECTRIC ASSN',\n",
       "       'PUD NO 1 OF PEND OREILLE COUNTY',\n",
       "       'BONNEVILLE POWER ADMINISTRATION||BIG BEND ELECTRIC COOP, INC',\n",
       "       'BONNEVILLE POWER ADMINISTRATION||PUD NO 1 OF MASON COUNTY|PUD NO 1 OF JEFFERSON COUNTY',\n",
       "       'BONNEVILLE POWER ADMINISTRATION||PUD NO 1 OF KITTITAS COUNTY',\n",
       "       'BONNEVILLE POWER ADMINISTRATION||TOWN OF EATONVILLE - (WA)|CITY OF TACOMA - (WA)',\n",
       "       'BONNEVILLE POWER ADMINISTRATION||TOWN OF RUSTON - (WA)|CITY OF TACOMA - (WA)||PENINSULA LIGHT COMPANY',\n",
       "       'BONNEVILLE POWER ADMINISTRATION||CITY OF TACOMA - (WA)||BENTON RURAL ELECTRIC ASSN|PENINSULA LIGHT COMPANY',\n",
       "       'CITY OF SEATTLE - (WA)',\n",
       "       'CITY OF SUMAS - (WA)||PUD NO 1 OF WHATCOM COUNTY',\n",
       "       'BONNEVILLE POWER ADMINISTRATION||CITY OF COULEE DAM - (WA)',\n",
       "       'BONNEVILLE POWER ADMINISTRATION||PENINSULA LIGHT COMPANY',\n",
       "       'CITY OF TACOMA - (WA)',\n",
       "       'BONNEVILLE POWER ADMINISTRATION||PUD NO 1 OF ASOTIN COUNTY',\n",
       "       'PORTLAND GENERAL ELECTRIC CO',\n",
       "       'BONNEVILLE POWER ADMINISTRATION||PUD NO 1 OF ASOTIN COUNTY||INLAND POWER & LIGHT COMPANY',\n",
       "       'BONNEVILLE POWER ADMINISTRATION||NESPELEM VALLEY ELEC COOP, INC',\n",
       "       'BONNEVILLE POWER ADMINISTRATION||PUD NO 1 OF CLALLAM COUNTY|PUD NO 1 OF JEFFERSON COUNTY'],\n",
       "      dtype=object)"
      ]
     },
     "execution_count": 159,
     "metadata": {},
     "output_type": "execute_result"
    }
   ],
   "source": [
    "df['Electric_Utility'].unique()\n"
   ]
  },
  {
   "cell_type": "code",
   "execution_count": 160,
   "id": "b44e6a81",
   "metadata": {},
   "outputs": [],
   "source": [
    "def categorize_electric_utility(value):\n",
    "    if value == \"Utility Not Avalilable\":\n",
    "        return \"Not Available\"\n",
    "    elif \"||\" in value:\n",
    "        return \"Multi type Utilities\"\n",
    "    elif \"|\" in value:\n",
    "        return \"Single Type Utilities\"\n",
    "    else:\n",
    "        return \"Only One Option\"\n",
    "    \n",
    "\n",
    "\n",
    "df['Electric_Utility_Category'] = df['Electric_Utility'].apply(categorize_electric_utility)"
   ]
  },
  {
   "cell_type": "code",
   "execution_count": 161,
   "id": "e0a13aaa",
   "metadata": {},
   "outputs": [
    {
     "data": {
      "text/plain": [
       "array(['Not Available', 'Only One Option', 'Multi type Utilities',\n",
       "       'Single Type Utilities'], dtype=object)"
      ]
     },
     "execution_count": 161,
     "metadata": {},
     "output_type": "execute_result"
    }
   ],
   "source": [
    "df['Electric_Utility_Category'].unique()"
   ]
  },
  {
   "cell_type": "code",
   "execution_count": 162,
   "id": "aae864e3",
   "metadata": {},
   "outputs": [
    {
     "data": {
      "text/html": [
       "<div>\n",
       "<style scoped>\n",
       "    .dataframe tbody tr th:only-of-type {\n",
       "        vertical-align: middle;\n",
       "    }\n",
       "\n",
       "    .dataframe tbody tr th {\n",
       "        vertical-align: top;\n",
       "    }\n",
       "\n",
       "    .dataframe thead th {\n",
       "        text-align: right;\n",
       "    }\n",
       "</style>\n",
       "<table border=\"1\" class=\"dataframe\">\n",
       "  <thead>\n",
       "    <tr style=\"text-align: right;\">\n",
       "      <th></th>\n",
       "      <th>VIN</th>\n",
       "      <th>County</th>\n",
       "      <th>City</th>\n",
       "      <th>State</th>\n",
       "      <th>PostalCode</th>\n",
       "      <th>ModelYear</th>\n",
       "      <th>Make</th>\n",
       "      <th>Model</th>\n",
       "      <th>Electric_Vehicle_Type</th>\n",
       "      <th>CAFV_Eligibility</th>\n",
       "      <th>Electric_Range</th>\n",
       "      <th>Legislative_District</th>\n",
       "      <th>DOL_Vehicle_ID</th>\n",
       "      <th>Vehicle_Location</th>\n",
       "      <th>Electric_Utility</th>\n",
       "      <th>2020_Census_Tract</th>\n",
       "      <th>Electric_Utility_Category</th>\n",
       "    </tr>\n",
       "  </thead>\n",
       "  <tbody>\n",
       "    <tr>\n",
       "      <th>0</th>\n",
       "      <td>JTMEB3FV6N</td>\n",
       "      <td>Monroe</td>\n",
       "      <td>Key West</td>\n",
       "      <td>FL</td>\n",
       "      <td>33040</td>\n",
       "      <td>2022</td>\n",
       "      <td>TOYOTA</td>\n",
       "      <td>RAV4 PRIME</td>\n",
       "      <td>Plug-in Hybrid Electric Vehicle (PHEV)</td>\n",
       "      <td>Clean Alternative Fuel Vehicle Eligible</td>\n",
       "      <td>42</td>\n",
       "      <td>Unknown</td>\n",
       "      <td>198968248</td>\n",
       "      <td>POINT (-81.80023 24.5545)</td>\n",
       "      <td>Utility Not Avalilable</td>\n",
       "      <td>12087972100</td>\n",
       "      <td>Not Available</td>\n",
       "    </tr>\n",
       "    <tr>\n",
       "      <th>1</th>\n",
       "      <td>1G1RD6E45D</td>\n",
       "      <td>Clark</td>\n",
       "      <td>Laughlin</td>\n",
       "      <td>NV</td>\n",
       "      <td>89029</td>\n",
       "      <td>2013</td>\n",
       "      <td>CHEVROLET</td>\n",
       "      <td>VOLT</td>\n",
       "      <td>Plug-in Hybrid Electric Vehicle (PHEV)</td>\n",
       "      <td>Clean Alternative Fuel Vehicle Eligible</td>\n",
       "      <td>38</td>\n",
       "      <td>Unknown</td>\n",
       "      <td>5204412</td>\n",
       "      <td>POINT (-114.57245 35.16815)</td>\n",
       "      <td>Utility Not Avalilable</td>\n",
       "      <td>32003005702</td>\n",
       "      <td>Not Available</td>\n",
       "    </tr>\n",
       "    <tr>\n",
       "      <th>2</th>\n",
       "      <td>JN1AZ0CP8B</td>\n",
       "      <td>Yakima</td>\n",
       "      <td>Yakima</td>\n",
       "      <td>WA</td>\n",
       "      <td>98901</td>\n",
       "      <td>2011</td>\n",
       "      <td>NISSAN</td>\n",
       "      <td>LEAF</td>\n",
       "      <td>Battery Electric Vehicle (BEV)</td>\n",
       "      <td>Clean Alternative Fuel Vehicle Eligible</td>\n",
       "      <td>73</td>\n",
       "      <td>15.0</td>\n",
       "      <td>218972519</td>\n",
       "      <td>POINT (-120.50721 46.60448)</td>\n",
       "      <td>PACIFICORP</td>\n",
       "      <td>53077001602</td>\n",
       "      <td>Only One Option</td>\n",
       "    </tr>\n",
       "    <tr>\n",
       "      <th>3</th>\n",
       "      <td>1G1FW6S08H</td>\n",
       "      <td>Skagit</td>\n",
       "      <td>Concrete</td>\n",
       "      <td>WA</td>\n",
       "      <td>98237</td>\n",
       "      <td>2017</td>\n",
       "      <td>CHEVROLET</td>\n",
       "      <td>BOLT EV</td>\n",
       "      <td>Battery Electric Vehicle (BEV)</td>\n",
       "      <td>Clean Alternative Fuel Vehicle Eligible</td>\n",
       "      <td>238</td>\n",
       "      <td>39.0</td>\n",
       "      <td>186750406</td>\n",
       "      <td>POINT (-121.7515 48.53892)</td>\n",
       "      <td>PUGET SOUND ENERGY INC</td>\n",
       "      <td>53057951101</td>\n",
       "      <td>Only One Option</td>\n",
       "    </tr>\n",
       "    <tr>\n",
       "      <th>4</th>\n",
       "      <td>3FA6P0SU1K</td>\n",
       "      <td>Snohomish</td>\n",
       "      <td>Everett</td>\n",
       "      <td>WA</td>\n",
       "      <td>98201</td>\n",
       "      <td>2019</td>\n",
       "      <td>FORD</td>\n",
       "      <td>FUSION</td>\n",
       "      <td>Plug-in Hybrid Electric Vehicle (PHEV)</td>\n",
       "      <td>Not eligible due to low battery range</td>\n",
       "      <td>26</td>\n",
       "      <td>38.0</td>\n",
       "      <td>2006714</td>\n",
       "      <td>POINT (-122.20596 47.97659)</td>\n",
       "      <td>PUGET SOUND ENERGY INC</td>\n",
       "      <td>53061041500</td>\n",
       "      <td>Only One Option</td>\n",
       "    </tr>\n",
       "  </tbody>\n",
       "</table>\n",
       "</div>"
      ],
      "text/plain": [
       "          VIN     County      City State  PostalCode  ModelYear       Make  \\\n",
       "0  JTMEB3FV6N     Monroe  Key West    FL       33040       2022     TOYOTA   \n",
       "1  1G1RD6E45D      Clark  Laughlin    NV       89029       2013  CHEVROLET   \n",
       "2  JN1AZ0CP8B     Yakima    Yakima    WA       98901       2011     NISSAN   \n",
       "3  1G1FW6S08H     Skagit  Concrete    WA       98237       2017  CHEVROLET   \n",
       "4  3FA6P0SU1K  Snohomish   Everett    WA       98201       2019       FORD   \n",
       "\n",
       "        Model                   Electric_Vehicle_Type  \\\n",
       "0  RAV4 PRIME  Plug-in Hybrid Electric Vehicle (PHEV)   \n",
       "1        VOLT  Plug-in Hybrid Electric Vehicle (PHEV)   \n",
       "2        LEAF          Battery Electric Vehicle (BEV)   \n",
       "3     BOLT EV          Battery Electric Vehicle (BEV)   \n",
       "4      FUSION  Plug-in Hybrid Electric Vehicle (PHEV)   \n",
       "\n",
       "                          CAFV_Eligibility  Electric_Range  \\\n",
       "0  Clean Alternative Fuel Vehicle Eligible              42   \n",
       "1  Clean Alternative Fuel Vehicle Eligible              38   \n",
       "2  Clean Alternative Fuel Vehicle Eligible              73   \n",
       "3  Clean Alternative Fuel Vehicle Eligible             238   \n",
       "4    Not eligible due to low battery range              26   \n",
       "\n",
       "  Legislative_District  DOL_Vehicle_ID             Vehicle_Location  \\\n",
       "0              Unknown       198968248    POINT (-81.80023 24.5545)   \n",
       "1              Unknown         5204412  POINT (-114.57245 35.16815)   \n",
       "2                 15.0       218972519  POINT (-120.50721 46.60448)   \n",
       "3                 39.0       186750406   POINT (-121.7515 48.53892)   \n",
       "4                 38.0         2006714  POINT (-122.20596 47.97659)   \n",
       "\n",
       "         Electric_Utility  2020_Census_Tract Electric_Utility_Category  \n",
       "0  Utility Not Avalilable        12087972100             Not Available  \n",
       "1  Utility Not Avalilable        32003005702             Not Available  \n",
       "2              PACIFICORP        53077001602           Only One Option  \n",
       "3  PUGET SOUND ENERGY INC        53057951101           Only One Option  \n",
       "4  PUGET SOUND ENERGY INC        53061041500           Only One Option  "
      ]
     },
     "execution_count": 162,
     "metadata": {},
     "output_type": "execute_result"
    }
   ],
   "source": [
    "df.head(5)"
   ]
  },
  {
   "cell_type": "code",
   "execution_count": 163,
   "id": "4cc92255",
   "metadata": {},
   "outputs": [
    {
     "data": {
      "text/plain": [
       "array(['Unknown', 15.0, 39.0, 38.0, 1.0, 21.0, 10.0, 40.0, 22.0, 13.0,\n",
       "       20.0, 2.0, 32.0, 7.0, 46.0, 30.0, 35.0, 44.0, 14.0, 9.0, 3.0, 23.0,\n",
       "       24.0, 5.0, 33.0, 45.0, 19.0, 27.0, 26.0, 25.0, 43.0, 17.0, 6.0,\n",
       "       41.0, 37.0, 34.0, 31.0, 12.0, 28.0, 48.0, 49.0, 4.0, 29.0, 36.0,\n",
       "       42.0, 8.0, 18.0, 11.0, 16.0, 47.0], dtype=object)"
      ]
     },
     "execution_count": 163,
     "metadata": {},
     "output_type": "execute_result"
    }
   ],
   "source": [
    "df['Legislative_District'].unique()\n"
   ]
  },
  {
   "cell_type": "code",
   "execution_count": 164,
   "id": "aca53545",
   "metadata": {},
   "outputs": [
    {
     "name": "stdout",
     "output_type": "stream",
     "text": [
      "<class 'pandas.core.frame.DataFrame'>\n",
      "RangeIndex: 112634 entries, 0 to 112633\n",
      "Data columns (total 16 columns):\n",
      " #   Column                     Non-Null Count   Dtype \n",
      "---  ------                     --------------   ----- \n",
      " 0   VIN                        112634 non-null  object\n",
      " 1   County                     112634 non-null  object\n",
      " 2   City                       112634 non-null  object\n",
      " 3   State                      112634 non-null  object\n",
      " 4   PostalCode                 112634 non-null  int32 \n",
      " 5   ModelYear                  112634 non-null  int64 \n",
      " 6   Make                       112634 non-null  object\n",
      " 7   Model                      112634 non-null  object\n",
      " 8   Electric_Vehicle_Type      112634 non-null  object\n",
      " 9   CAFV_Eligibility           112634 non-null  object\n",
      " 10  Electric_Range             112634 non-null  int64 \n",
      " 11  DOL_Vehicle_ID             112634 non-null  int64 \n",
      " 12  Vehicle_Location           112634 non-null  object\n",
      " 13  Electric_Utility           112634 non-null  object\n",
      " 14  2020_Census_Tract          112634 non-null  int64 \n",
      " 15  Electric_Utility_Category  112634 non-null  object\n",
      "dtypes: int32(1), int64(4), object(11)\n",
      "memory usage: 13.3+ MB\n"
     ]
    }
   ],
   "source": [
    "df.drop('Legislative_District', axis=1, inplace=True)\n",
    "df.info()\n"
   ]
  },
  {
   "cell_type": "code",
   "execution_count": 165,
   "id": "8884183d",
   "metadata": {},
   "outputs": [
    {
     "data": {
      "image/png": "[encoded data removed]",
      "text/plain": [
       "<Figure size 1080x432 with 1 Axes>"
      ]
     },
     "metadata": {},
     "output_type": "display_data"
    },
    {
     "data": {
      "text/html": [
       "<style type=\"text/css\">\n",
       "#T_661d7_row0_col0 {\n",
       "  background-color: #08306b;\n",
       "  color: #f1f1f1;\n",
       "}\n",
       "#T_661d7_row1_col0 {\n",
       "  background-color: #d1e2f3;\n",
       "  color: #000000;\n",
       "}\n",
       "#T_661d7_row2_col0 {\n",
       "  background-color: #deebf7;\n",
       "  color: #000000;\n",
       "}\n",
       "#T_661d7_row3_col0 {\n",
       "  background-color: #e5eff9;\n",
       "  color: #000000;\n",
       "}\n",
       "#T_661d7_row4_col0, #T_661d7_row5_col0 {\n",
       "  background-color: #eef5fc;\n",
       "  color: #000000;\n",
       "}\n",
       "#T_661d7_row6_col0, #T_661d7_row7_col0 {\n",
       "  background-color: #f2f8fd;\n",
       "  color: #000000;\n",
       "}\n",
       "#T_661d7_row8_col0, #T_661d7_row9_col0 {\n",
       "  background-color: #f7fbff;\n",
       "  color: #000000;\n",
       "}\n",
       "</style>\n",
       "<table id=\"T_661d7_\">\n",
       "  <thead>\n",
       "    <tr>\n",
       "      <th class=\"blank level0\" >&nbsp;</th>\n",
       "      <th class=\"col_heading level0 col0\" >County</th>\n",
       "    </tr>\n",
       "  </thead>\n",
       "  <tbody>\n",
       "    <tr>\n",
       "      <th id=\"T_661d7_level0_row0\" class=\"row_heading level0 row0\" >King</th>\n",
       "      <td id=\"T_661d7_row0_col0\" class=\"data row0 col0\" >59000</td>\n",
       "    </tr>\n",
       "    <tr>\n",
       "      <th id=\"T_661d7_level0_row1\" class=\"row_heading level0 row1\" >Snohomish</th>\n",
       "      <td id=\"T_661d7_row1_col0\" class=\"data row1 col0\" >12434</td>\n",
       "    </tr>\n",
       "    <tr>\n",
       "      <th id=\"T_661d7_level0_row2\" class=\"row_heading level0 row2\" >Pierce</th>\n",
       "      <td id=\"T_661d7_row2_col0\" class=\"data row2 col0\" >8535</td>\n",
       "    </tr>\n",
       "    <tr>\n",
       "      <th id=\"T_661d7_level0_row3\" class=\"row_heading level0 row3\" >Clark</th>\n",
       "      <td id=\"T_661d7_row3_col0\" class=\"data row3 col0\" >6689</td>\n",
       "    </tr>\n",
       "    <tr>\n",
       "      <th id=\"T_661d7_level0_row4\" class=\"row_heading level0 row4\" >Thurston</th>\n",
       "      <td id=\"T_661d7_row4_col0\" class=\"data row4 col0\" >4126</td>\n",
       "    </tr>\n",
       "    <tr>\n",
       "      <th id=\"T_661d7_level0_row5\" class=\"row_heading level0 row5\" >Kitsap</th>\n",
       "      <td id=\"T_661d7_row5_col0\" class=\"data row5 col0\" >3847</td>\n",
       "    </tr>\n",
       "    <tr>\n",
       "      <th id=\"T_661d7_level0_row6\" class=\"row_heading level0 row6\" >Whatcom</th>\n",
       "      <td id=\"T_661d7_row6_col0\" class=\"data row6 col0\" >2840</td>\n",
       "    </tr>\n",
       "    <tr>\n",
       "      <th id=\"T_661d7_level0_row7\" class=\"row_heading level0 row7\" >Spokane</th>\n",
       "      <td id=\"T_661d7_row7_col0\" class=\"data row7 col0\" >2792</td>\n",
       "    </tr>\n",
       "    <tr>\n",
       "      <th id=\"T_661d7_level0_row8\" class=\"row_heading level0 row8\" >Benton</th>\n",
       "      <td id=\"T_661d7_row8_col0\" class=\"data row8 col0\" >1376</td>\n",
       "    </tr>\n",
       "    <tr>\n",
       "      <th id=\"T_661d7_level0_row9\" class=\"row_heading level0 row9\" >Island</th>\n",
       "      <td id=\"T_661d7_row9_col0\" class=\"data row9 col0\" >1307</td>\n",
       "    </tr>\n",
       "  </tbody>\n",
       "</table>\n"
      ],
      "text/plain": [
       "<pandas.io.formats.style.Styler at 0x29563a800d0>"
      ]
     },
     "execution_count": 165,
     "metadata": {},
     "output_type": "execute_result"
    }
   ],
   "source": [
    "car_counts = df['County'].value_counts().nlargest(10)\n",
    "\n",
    "# plot the counts\n",
    "car_counts.plot(kind='bar')\n",
    "plt.xlabel('County')\n",
    "plt.ylabel('Number of Cars')\n",
    "plt.title('Top 10 County of Cars per County')\n",
    "plt.show()\n",
    "\n",
    "car_counts_df = car_counts.to_frame()\n",
    "car_counts_df.style.background_gradient(cmap='Blues')"
   ]
  },
  {
   "cell_type": "code",
   "execution_count": 166,
   "id": "27612e57",
   "metadata": {},
   "outputs": [
    {
     "data": {
      "image/png": "[encoded data removed]",
      "text/plain": [
       "<Figure size 1080x432 with 1 Axes>"
      ]
     },
     "metadata": {},
     "output_type": "display_data"
    },
    {
     "data": {
      "text/html": [
       "<style type=\"text/css\">\n",
       "#T_1f523_row0_col0 {\n",
       "  background-color: #08306b;\n",
       "  color: #f1f1f1;\n",
       "}\n",
       "#T_1f523_row1_col0 {\n",
       "  background-color: #d0e2f2;\n",
       "  color: #000000;\n",
       "}\n",
       "#T_1f523_row2_col0 {\n",
       "  background-color: #e3eef8;\n",
       "  color: #000000;\n",
       "}\n",
       "#T_1f523_row3_col0 {\n",
       "  background-color: #e5eff9;\n",
       "  color: #000000;\n",
       "}\n",
       "#T_1f523_row4_col0 {\n",
       "  background-color: #eaf2fb;\n",
       "  color: #000000;\n",
       "}\n",
       "#T_1f523_row5_col0, #T_1f523_row6_col0 {\n",
       "  background-color: #edf4fc;\n",
       "  color: #000000;\n",
       "}\n",
       "#T_1f523_row7_col0, #T_1f523_row8_col0 {\n",
       "  background-color: #f3f8fe;\n",
       "  color: #000000;\n",
       "}\n",
       "#T_1f523_row9_col0 {\n",
       "  background-color: #f7fbff;\n",
       "  color: #000000;\n",
       "}\n",
       "</style>\n",
       "<table id=\"T_1f523_\">\n",
       "  <thead>\n",
       "    <tr>\n",
       "      <th class=\"blank level0\" >&nbsp;</th>\n",
       "      <th class=\"col_heading level0 col0\" >City</th>\n",
       "    </tr>\n",
       "  </thead>\n",
       "  <tbody>\n",
       "    <tr>\n",
       "      <th id=\"T_1f523_level0_row0\" class=\"row_heading level0 row0\" >Seattle</th>\n",
       "      <td id=\"T_1f523_row0_col0\" class=\"data row0 col0\" >20305</td>\n",
       "    </tr>\n",
       "    <tr>\n",
       "      <th id=\"T_1f523_level0_row1\" class=\"row_heading level0 row1\" >Bellevue</th>\n",
       "      <td id=\"T_1f523_row1_col0\" class=\"data row1 col0\" >5921</td>\n",
       "    </tr>\n",
       "    <tr>\n",
       "      <th id=\"T_1f523_level0_row2\" class=\"row_heading level0 row2\" >Redmond</th>\n",
       "      <td id=\"T_1f523_row2_col0\" class=\"data row2 col0\" >4201</td>\n",
       "    </tr>\n",
       "    <tr>\n",
       "      <th id=\"T_1f523_level0_row3\" class=\"row_heading level0 row3\" >Vancouver</th>\n",
       "      <td id=\"T_1f523_row3_col0\" class=\"data row3 col0\" >4013</td>\n",
       "    </tr>\n",
       "    <tr>\n",
       "      <th id=\"T_1f523_level0_row4\" class=\"row_heading level0 row4\" >Kirkland</th>\n",
       "      <td id=\"T_1f523_row4_col0\" class=\"data row4 col0\" >3598</td>\n",
       "    </tr>\n",
       "    <tr>\n",
       "      <th id=\"T_1f523_level0_row5\" class=\"row_heading level0 row5\" >Bothell</th>\n",
       "      <td id=\"T_1f523_row5_col0\" class=\"data row5 col0\" >3335</td>\n",
       "    </tr>\n",
       "    <tr>\n",
       "      <th id=\"T_1f523_level0_row6\" class=\"row_heading level0 row6\" >Sammamish</th>\n",
       "      <td id=\"T_1f523_row6_col0\" class=\"data row6 col0\" >3292</td>\n",
       "    </tr>\n",
       "    <tr>\n",
       "      <th id=\"T_1f523_level0_row7\" class=\"row_heading level0 row7\" >Renton</th>\n",
       "      <td id=\"T_1f523_row7_col0\" class=\"data row7 col0\" >2778</td>\n",
       "    </tr>\n",
       "    <tr>\n",
       "      <th id=\"T_1f523_level0_row8\" class=\"row_heading level0 row8\" >Olympia</th>\n",
       "      <td id=\"T_1f523_row8_col0\" class=\"data row8 col0\" >2745</td>\n",
       "    </tr>\n",
       "    <tr>\n",
       "      <th id=\"T_1f523_level0_row9\" class=\"row_heading level0 row9\" >Tacoma</th>\n",
       "      <td id=\"T_1f523_row9_col0\" class=\"data row9 col0\" >2379</td>\n",
       "    </tr>\n",
       "  </tbody>\n",
       "</table>\n"
      ],
      "text/plain": [
       "<pandas.io.formats.style.Styler at 0x295622be580>"
      ]
     },
     "execution_count": 166,
     "metadata": {},
     "output_type": "execute_result"
    }
   ],
   "source": [
    "car_counts_Cty = df['City'].value_counts().nlargest(10)\n",
    "\n",
    "# plot the counts\n",
    "car_counts_Cty.plot(kind='bar')\n",
    "plt.xlabel('City')\n",
    "plt.ylabel('Number of Cars')\n",
    "plt.title('Top 10 Count of Cars per City')\n",
    "plt.show()\n",
    "\n",
    "\n",
    "car_counts_cty_df = car_counts_Cty.to_frame()\n",
    "car_counts_cty_df.style.background_gradient(cmap='Blues')"
   ]
  },
  {
   "cell_type": "code",
   "execution_count": 167,
   "id": "c38557dd",
   "metadata": {},
   "outputs": [
    {
     "data": {
      "image/png": "[encoded data removed]",
      "text/plain": [
       "<Figure size 1080x432 with 1 Axes>"
      ]
     },
     "metadata": {},
     "output_type": "display_data"
    },
    {
     "data": {
      "text/html": [
       "<style type=\"text/css\">\n",
       "#T_71382_row0_col0 {\n",
       "  background-color: #08306b;\n",
       "  color: #f1f1f1;\n",
       "}\n",
       "#T_71382_row1_col0, #T_71382_row2_col0, #T_71382_row3_col0, #T_71382_row4_col0, #T_71382_row5_col0, #T_71382_row6_col0, #T_71382_row7_col0, #T_71382_row8_col0, #T_71382_row9_col0 {\n",
       "  background-color: #f7fbff;\n",
       "  color: #000000;\n",
       "}\n",
       "</style>\n",
       "<table id=\"T_71382_\">\n",
       "  <thead>\n",
       "    <tr>\n",
       "      <th class=\"blank level0\" >&nbsp;</th>\n",
       "      <th class=\"col_heading level0 col0\" >State</th>\n",
       "    </tr>\n",
       "  </thead>\n",
       "  <tbody>\n",
       "    <tr>\n",
       "      <th id=\"T_71382_level0_row0\" class=\"row_heading level0 row0\" >WA</th>\n",
       "      <td id=\"T_71382_row0_col0\" class=\"data row0 col0\" >112348</td>\n",
       "    </tr>\n",
       "    <tr>\n",
       "      <th id=\"T_71382_level0_row1\" class=\"row_heading level0 row1\" >CA</th>\n",
       "      <td id=\"T_71382_row1_col0\" class=\"data row1 col0\" >76</td>\n",
       "    </tr>\n",
       "    <tr>\n",
       "      <th id=\"T_71382_level0_row2\" class=\"row_heading level0 row2\" >VA</th>\n",
       "      <td id=\"T_71382_row2_col0\" class=\"data row2 col0\" >36</td>\n",
       "    </tr>\n",
       "    <tr>\n",
       "      <th id=\"T_71382_level0_row3\" class=\"row_heading level0 row3\" >MD</th>\n",
       "      <td id=\"T_71382_row3_col0\" class=\"data row3 col0\" >26</td>\n",
       "    </tr>\n",
       "    <tr>\n",
       "      <th id=\"T_71382_level0_row4\" class=\"row_heading level0 row4\" >TX</th>\n",
       "      <td id=\"T_71382_row4_col0\" class=\"data row4 col0\" >14</td>\n",
       "    </tr>\n",
       "    <tr>\n",
       "      <th id=\"T_71382_level0_row5\" class=\"row_heading level0 row5\" >CO</th>\n",
       "      <td id=\"T_71382_row5_col0\" class=\"data row5 col0\" >9</td>\n",
       "    </tr>\n",
       "    <tr>\n",
       "      <th id=\"T_71382_level0_row6\" class=\"row_heading level0 row6\" >NV</th>\n",
       "      <td id=\"T_71382_row6_col0\" class=\"data row6 col0\" >8</td>\n",
       "    </tr>\n",
       "    <tr>\n",
       "      <th id=\"T_71382_level0_row7\" class=\"row_heading level0 row7\" >GA</th>\n",
       "      <td id=\"T_71382_row7_col0\" class=\"data row7 col0\" >7</td>\n",
       "    </tr>\n",
       "    <tr>\n",
       "      <th id=\"T_71382_level0_row8\" class=\"row_heading level0 row8\" >NC</th>\n",
       "      <td id=\"T_71382_row8_col0\" class=\"data row8 col0\" >7</td>\n",
       "    </tr>\n",
       "    <tr>\n",
       "      <th id=\"T_71382_level0_row9\" class=\"row_heading level0 row9\" >CT</th>\n",
       "      <td id=\"T_71382_row9_col0\" class=\"data row9 col0\" >6</td>\n",
       "    </tr>\n",
       "  </tbody>\n",
       "</table>\n"
      ],
      "text/plain": [
       "<pandas.io.formats.style.Styler at 0x29563525af0>"
      ]
     },
     "execution_count": 167,
     "metadata": {},
     "output_type": "execute_result"
    }
   ],
   "source": [
    "car_counts_St = df['State'].value_counts().nlargest(10)\n",
    "\n",
    "# plot the counts with a logarithmic y-axis\n",
    "plt.bar(car_counts_St.index, car_counts_St.values)\n",
    "plt.yscale('log')\n",
    "plt.xlabel('State')\n",
    "plt.ylabel('Number of Cars (log scale)')\n",
    "plt.title('Top 10 Count of Cars per State')\n",
    "plt.show()\n",
    "\n",
    "\n",
    "car_counts_St_df = car_counts_St.to_frame()\n",
    "car_counts_St_df.style.background_gradient(cmap='Blues')"
   ]
  },
  {
   "cell_type": "code",
   "execution_count": 168,
   "id": "3f7bd767",
   "metadata": {},
   "outputs": [
    {
     "data": {
      "image/png": "[encoded data removed]",
      "text/plain": [
       "<Figure size 1080x432 with 1 Axes>"
      ]
     },
     "metadata": {},
     "output_type": "display_data"
    },
    {
     "data": {
      "text/html": [
       "<style type=\"text/css\">\n",
       "#T_bc85a_row0_col0 {\n",
       "  background-color: #08306b;\n",
       "  color: #f1f1f1;\n",
       "}\n",
       "#T_bc85a_row1_col0 {\n",
       "  background-color: #a3cce3;\n",
       "  color: #000000;\n",
       "}\n",
       "#T_bc85a_row2_col0 {\n",
       "  background-color: #b2d2e8;\n",
       "  color: #000000;\n",
       "}\n",
       "#T_bc85a_row3_col0 {\n",
       "  background-color: #cbdef1;\n",
       "  color: #000000;\n",
       "}\n",
       "#T_bc85a_row4_col0, #T_bc85a_row5_col0 {\n",
       "  background-color: #cfe1f2;\n",
       "  color: #000000;\n",
       "}\n",
       "#T_bc85a_row6_col0 {\n",
       "  background-color: #ebf3fb;\n",
       "  color: #000000;\n",
       "}\n",
       "#T_bc85a_row7_col0 {\n",
       "  background-color: #eef5fc;\n",
       "  color: #000000;\n",
       "}\n",
       "#T_bc85a_row8_col0 {\n",
       "  background-color: #f5f9fe;\n",
       "  color: #000000;\n",
       "}\n",
       "#T_bc85a_row9_col0 {\n",
       "  background-color: #f7fbff;\n",
       "  color: #000000;\n",
       "}\n",
       "</style>\n",
       "<table id=\"T_bc85a_\">\n",
       "  <thead>\n",
       "    <tr>\n",
       "      <th class=\"blank level0\" >&nbsp;</th>\n",
       "      <th class=\"col_heading level0 col0\" >PostalCode</th>\n",
       "    </tr>\n",
       "  </thead>\n",
       "  <tbody>\n",
       "    <tr>\n",
       "      <th id=\"T_bc85a_level0_row0\" class=\"row_heading level0 row0\" >98052</th>\n",
       "      <td id=\"T_bc85a_row0_col0\" class=\"data row0 col0\" >2916</td>\n",
       "    </tr>\n",
       "    <tr>\n",
       "      <th id=\"T_bc85a_level0_row1\" class=\"row_heading level0 row1\" >98033</th>\n",
       "      <td id=\"T_bc85a_row1_col0\" class=\"data row1 col0\" >2059</td>\n",
       "    </tr>\n",
       "    <tr>\n",
       "      <th id=\"T_bc85a_level0_row2\" class=\"row_heading level0 row2\" >98004</th>\n",
       "      <td id=\"T_bc85a_row2_col0\" class=\"data row2 col0\" >2001</td>\n",
       "    </tr>\n",
       "    <tr>\n",
       "      <th id=\"T_bc85a_level0_row3\" class=\"row_heading level0 row3\" >98115</th>\n",
       "      <td id=\"T_bc85a_row3_col0\" class=\"data row3 col0\" >1880</td>\n",
       "    </tr>\n",
       "    <tr>\n",
       "      <th id=\"T_bc85a_level0_row4\" class=\"row_heading level0 row4\" >98006</th>\n",
       "      <td id=\"T_bc85a_row4_col0\" class=\"data row4 col0\" >1852</td>\n",
       "    </tr>\n",
       "    <tr>\n",
       "      <th id=\"T_bc85a_level0_row5\" class=\"row_heading level0 row5\" >98012</th>\n",
       "      <td id=\"T_bc85a_row5_col0\" class=\"data row5 col0\" >1850</td>\n",
       "    </tr>\n",
       "    <tr>\n",
       "      <th id=\"T_bc85a_level0_row6\" class=\"row_heading level0 row6\" >98072</th>\n",
       "      <td id=\"T_bc85a_row6_col0\" class=\"data row6 col0\" >1661</td>\n",
       "    </tr>\n",
       "    <tr>\n",
       "      <th id=\"T_bc85a_level0_row7\" class=\"row_heading level0 row7\" >98040</th>\n",
       "      <td id=\"T_bc85a_row7_col0\" class=\"data row7 col0\" >1639</td>\n",
       "    </tr>\n",
       "    <tr>\n",
       "      <th id=\"T_bc85a_level0_row8\" class=\"row_heading level0 row8\" >98074</th>\n",
       "      <td id=\"T_bc85a_row8_col0\" class=\"data row8 col0\" >1594</td>\n",
       "    </tr>\n",
       "    <tr>\n",
       "      <th id=\"T_bc85a_level0_row9\" class=\"row_heading level0 row9\" >98034</th>\n",
       "      <td id=\"T_bc85a_row9_col0\" class=\"data row9 col0\" >1578</td>\n",
       "    </tr>\n",
       "  </tbody>\n",
       "</table>\n"
      ],
      "text/plain": [
       "<pandas.io.formats.style.Styler at 0x295602e0250>"
      ]
     },
     "execution_count": 168,
     "metadata": {},
     "output_type": "execute_result"
    }
   ],
   "source": [
    "car_counts_pc = df['PostalCode'].value_counts().nlargest(10)\n",
    "\n",
    "# plot the counts with a logarithmic y-axis\n",
    "plt.bar(car_counts_pc.index, car_counts_pc.values)\n",
    "#plt.yscale('log')\n",
    "plt.xlabel('Postal Code')\n",
    "plt.ylabel('Number of Cars')\n",
    "plt.title('Top 10 Count of Cars per Postal Code')\n",
    "plt.show()\n",
    "\n",
    "car_counts_pc_df = car_counts_pc.to_frame()\n",
    "car_counts_pc_df.style.background_gradient(cmap='Blues')"
   ]
  },
  {
   "cell_type": "code",
   "execution_count": 169,
   "id": "088d0204",
   "metadata": {},
   "outputs": [
    {
     "data": {
      "image/png": "[encoded data removed]",
      "text/plain": [
       "<Figure size 1080x432 with 1 Axes>"
      ]
     },
     "metadata": {},
     "output_type": "display_data"
    },
    {
     "data": {
      "text/html": [
       "<div>\n",
       "<style scoped>\n",
       "    .dataframe tbody tr th:only-of-type {\n",
       "        vertical-align: middle;\n",
       "    }\n",
       "\n",
       "    .dataframe tbody tr th {\n",
       "        vertical-align: top;\n",
       "    }\n",
       "\n",
       "    .dataframe thead th {\n",
       "        text-align: right;\n",
       "    }\n",
       "</style>\n",
       "<table border=\"1\" class=\"dataframe\">\n",
       "  <thead>\n",
       "    <tr style=\"text-align: right;\">\n",
       "      <th>Make</th>\n",
       "      <th>AUDI</th>\n",
       "      <th>BMW</th>\n",
       "      <th>CHEVROLET</th>\n",
       "      <th>FORD</th>\n",
       "      <th>KIA</th>\n",
       "      <th>NISSAN</th>\n",
       "      <th>TESLA</th>\n",
       "      <th>TOYOTA</th>\n",
       "      <th>VOLKSWAGEN</th>\n",
       "      <th>VOLVO</th>\n",
       "    </tr>\n",
       "    <tr>\n",
       "      <th>County</th>\n",
       "      <th></th>\n",
       "      <th></th>\n",
       "      <th></th>\n",
       "      <th></th>\n",
       "      <th></th>\n",
       "      <th></th>\n",
       "      <th></th>\n",
       "      <th></th>\n",
       "      <th></th>\n",
       "      <th></th>\n",
       "    </tr>\n",
       "  </thead>\n",
       "  <tbody>\n",
       "    <tr>\n",
       "      <th>Benton</th>\n",
       "      <td>27</td>\n",
       "      <td>53</td>\n",
       "      <td>197</td>\n",
       "      <td>113</td>\n",
       "      <td>44</td>\n",
       "      <td>111</td>\n",
       "      <td>571</td>\n",
       "      <td>80</td>\n",
       "      <td>23</td>\n",
       "      <td>11</td>\n",
       "    </tr>\n",
       "    <tr>\n",
       "      <th>Clark</th>\n",
       "      <td>108</td>\n",
       "      <td>254</td>\n",
       "      <td>677</td>\n",
       "      <td>405</td>\n",
       "      <td>281</td>\n",
       "      <td>764</td>\n",
       "      <td>2698</td>\n",
       "      <td>461</td>\n",
       "      <td>132</td>\n",
       "      <td>106</td>\n",
       "    </tr>\n",
       "    <tr>\n",
       "      <th>Island</th>\n",
       "      <td>32</td>\n",
       "      <td>37</td>\n",
       "      <td>197</td>\n",
       "      <td>91</td>\n",
       "      <td>70</td>\n",
       "      <td>147</td>\n",
       "      <td>478</td>\n",
       "      <td>66</td>\n",
       "      <td>42</td>\n",
       "      <td>24</td>\n",
       "    </tr>\n",
       "    <tr>\n",
       "      <th>King</th>\n",
       "      <td>1412</td>\n",
       "      <td>2788</td>\n",
       "      <td>3878</td>\n",
       "      <td>2190</td>\n",
       "      <td>2036</td>\n",
       "      <td>6330</td>\n",
       "      <td>30623</td>\n",
       "      <td>1753</td>\n",
       "      <td>1343</td>\n",
       "      <td>1371</td>\n",
       "    </tr>\n",
       "    <tr>\n",
       "      <th>Kitsap</th>\n",
       "      <td>86</td>\n",
       "      <td>173</td>\n",
       "      <td>464</td>\n",
       "      <td>249</td>\n",
       "      <td>195</td>\n",
       "      <td>576</td>\n",
       "      <td>1257</td>\n",
       "      <td>171</td>\n",
       "      <td>103</td>\n",
       "      <td>111</td>\n",
       "    </tr>\n",
       "  </tbody>\n",
       "</table>\n",
       "</div>"
      ],
      "text/plain": [
       "Make    AUDI   BMW  CHEVROLET  FORD   KIA  NISSAN  TESLA  TOYOTA  VOLKSWAGEN  \\\n",
       "County                                                                         \n",
       "Benton    27    53        197   113    44     111    571      80          23   \n",
       "Clark    108   254        677   405   281     764   2698     461         132   \n",
       "Island    32    37        197    91    70     147    478      66          42   \n",
       "King    1412  2788       3878  2190  2036    6330  30623    1753        1343   \n",
       "Kitsap    86   173        464   249   195     576   1257     171         103   \n",
       "\n",
       "Make    VOLVO  \n",
       "County         \n",
       "Benton     11  \n",
       "Clark     106  \n",
       "Island     24  \n",
       "King     1371  \n",
       "Kitsap    111  "
      ]
     },
     "execution_count": 169,
     "metadata": {},
     "output_type": "execute_result"
    }
   ],
   "source": [
    "cnt_MkCounty = df.groupby(['County', 'Make']).size().reset_index(name='Count')\n",
    "\n",
    "# Group the data by county and make, and sum the counts for each group\n",
    "grouped_data = cnt_MkCounty.groupby(['County', 'Make'])['Count'].sum().reset_index()\n",
    "\n",
    "# Group the data by county and sum the counts for each county\n",
    "county_counts = grouped_data.groupby('County')['Count'].sum().reset_index()\n",
    "make_counts = grouped_data.groupby('Make')['Count'].sum().reset_index()\n",
    "\n",
    "\n",
    "# Sort the counties by count in descending order, and select the top 10\n",
    "top_counties = county_counts.sort_values(by='Count', ascending=False).head(10)\n",
    "top_makes = make_counts.sort_values(by='Count', ascending=False).head(10)\n",
    "\n",
    "\n",
    "# Filter the data to only include the top 10 counties\n",
    "filtered_data = grouped_data[grouped_data['County'].isin(top_counties['County']) & grouped_data['Make'].isin(top_makes['Make'])]\n",
    "\n",
    "\n",
    "# Pivot the data to create a matrix with counties as rows, makes as columns, and counts as values\n",
    "pivoted_data = filtered_data.pivot(index='County', columns='Make', values='Count').fillna(0)\n",
    "\n",
    "# Create a stacked bar plot of the pivoted data\n",
    "pivoted_data.plot(kind='bar', stacked=True)\n",
    "\n",
    "# Set the title and axis labels\n",
    "plt.title('Top 10 Make distribution count per top 10 County')\n",
    "plt.xlabel('County')\n",
    "plt.ylabel('Number of Cars')\n",
    "\n",
    "# Show the plot\n",
    "plt.show()\n",
    "\n",
    "\n",
    "pivoted_data.head()"
   ]
  },
  {
   "cell_type": "code",
   "execution_count": 170,
   "id": "fc18a55d",
   "metadata": {},
   "outputs": [
    {
     "data": {
      "image/png": "[encoded data removed]",
      "text/plain": [
       "<Figure size 1080x432 with 1 Axes>"
      ]
     },
     "metadata": {},
     "output_type": "display_data"
    },
    {
     "data": {
      "text/html": [
       "<div>\n",
       "<style scoped>\n",
       "    .dataframe tbody tr th:only-of-type {\n",
       "        vertical-align: middle;\n",
       "    }\n",
       "\n",
       "    .dataframe tbody tr th {\n",
       "        vertical-align: top;\n",
       "    }\n",
       "\n",
       "    .dataframe thead th {\n",
       "        text-align: right;\n",
       "    }\n",
       "</style>\n",
       "<table border=\"1\" class=\"dataframe\">\n",
       "  <thead>\n",
       "    <tr style=\"text-align: right;\">\n",
       "      <th>Make</th>\n",
       "      <th>AUDI</th>\n",
       "      <th>BMW</th>\n",
       "      <th>CHEVROLET</th>\n",
       "      <th>FORD</th>\n",
       "      <th>KIA</th>\n",
       "      <th>NISSAN</th>\n",
       "      <th>TESLA</th>\n",
       "      <th>TOYOTA</th>\n",
       "      <th>VOLKSWAGEN</th>\n",
       "      <th>VOLVO</th>\n",
       "    </tr>\n",
       "    <tr>\n",
       "      <th>City</th>\n",
       "      <th></th>\n",
       "      <th></th>\n",
       "      <th></th>\n",
       "      <th></th>\n",
       "      <th></th>\n",
       "      <th></th>\n",
       "      <th></th>\n",
       "      <th></th>\n",
       "      <th></th>\n",
       "      <th></th>\n",
       "    </tr>\n",
       "  </thead>\n",
       "  <tbody>\n",
       "    <tr>\n",
       "      <th>Bellevue</th>\n",
       "      <td>120</td>\n",
       "      <td>295</td>\n",
       "      <td>211</td>\n",
       "      <td>131</td>\n",
       "      <td>131</td>\n",
       "      <td>527</td>\n",
       "      <td>3714</td>\n",
       "      <td>140</td>\n",
       "      <td>76</td>\n",
       "      <td>103</td>\n",
       "    </tr>\n",
       "    <tr>\n",
       "      <th>Bothell</th>\n",
       "      <td>48</td>\n",
       "      <td>119</td>\n",
       "      <td>183</td>\n",
       "      <td>128</td>\n",
       "      <td>98</td>\n",
       "      <td>374</td>\n",
       "      <td>1950</td>\n",
       "      <td>67</td>\n",
       "      <td>48</td>\n",
       "      <td>57</td>\n",
       "    </tr>\n",
       "    <tr>\n",
       "      <th>Kirkland</th>\n",
       "      <td>97</td>\n",
       "      <td>174</td>\n",
       "      <td>173</td>\n",
       "      <td>92</td>\n",
       "      <td>117</td>\n",
       "      <td>316</td>\n",
       "      <td>2112</td>\n",
       "      <td>70</td>\n",
       "      <td>70</td>\n",
       "      <td>91</td>\n",
       "    </tr>\n",
       "    <tr>\n",
       "      <th>Olympia</th>\n",
       "      <td>48</td>\n",
       "      <td>70</td>\n",
       "      <td>456</td>\n",
       "      <td>215</td>\n",
       "      <td>177</td>\n",
       "      <td>360</td>\n",
       "      <td>805</td>\n",
       "      <td>170</td>\n",
       "      <td>62</td>\n",
       "      <td>39</td>\n",
       "    </tr>\n",
       "    <tr>\n",
       "      <th>Redmond</th>\n",
       "      <td>70</td>\n",
       "      <td>168</td>\n",
       "      <td>189</td>\n",
       "      <td>110</td>\n",
       "      <td>112</td>\n",
       "      <td>460</td>\n",
       "      <td>2570</td>\n",
       "      <td>101</td>\n",
       "      <td>77</td>\n",
       "      <td>66</td>\n",
       "    </tr>\n",
       "  </tbody>\n",
       "</table>\n",
       "</div>"
      ],
      "text/plain": [
       "Make      AUDI  BMW  CHEVROLET  FORD  KIA  NISSAN  TESLA  TOYOTA  VOLKSWAGEN  \\\n",
       "City                                                                           \n",
       "Bellevue   120  295        211   131  131     527   3714     140          76   \n",
       "Bothell     48  119        183   128   98     374   1950      67          48   \n",
       "Kirkland    97  174        173    92  117     316   2112      70          70   \n",
       "Olympia     48   70        456   215  177     360    805     170          62   \n",
       "Redmond     70  168        189   110  112     460   2570     101          77   \n",
       "\n",
       "Make      VOLVO  \n",
       "City             \n",
       "Bellevue    103  \n",
       "Bothell      57  \n",
       "Kirkland     91  \n",
       "Olympia      39  \n",
       "Redmond      66  "
      ]
     },
     "execution_count": 170,
     "metadata": {},
     "output_type": "execute_result"
    }
   ],
   "source": [
    "cnt_MkCity = df.groupby(['City', 'Make']).size().reset_index(name='Count')\n",
    "\n",
    "# Group the data by county and make, and sum the counts for each group\n",
    "grouped_data_cty = cnt_MkCity.groupby(['City', 'Make'])['Count'].sum().reset_index()\n",
    "\n",
    "# Group the data by county and sum the counts for each county\n",
    "city_counts = grouped_data_cty.groupby('City')['Count'].sum().reset_index()\n",
    "make_counts = grouped_data_cty.groupby('Make')['Count'].sum().reset_index()\n",
    "\n",
    "\n",
    "# Sort the counties by count in descending order, and select the top 10\n",
    "top_cities = city_counts.sort_values(by='Count', ascending=False).head(10)\n",
    "top_makes = make_counts.sort_values(by='Count', ascending=False).head(10)\n",
    "\n",
    "\n",
    "# Filter the data to only include the top 10 counties\n",
    "filtered_data_Cty = grouped_data_cty[grouped_data_cty['City'].isin(top_cities['City']) & grouped_data_cty['Make'].isin(top_makes['Make'])]\n",
    "\n",
    "\n",
    "# Pivot the data to create a matrix with counties as rows, makes as columns, and counts as values\n",
    "pivoted_data_cty = filtered_data_Cty.pivot(index='City', columns='Make', values='Count').fillna(0)\n",
    "\n",
    "# Create a stacked bar plot of the pivoted data\n",
    "pivoted_data_cty.plot(kind='bar', stacked=True)\n",
    "\n",
    "# Set the title and axis labels\n",
    "plt.title('Top 10 Make distribution count per top 10 City')\n",
    "plt.xlabel('City')\n",
    "plt.ylabel('Number of Cars')\n",
    "\n",
    "# Show the plot\n",
    "plt.show()\n",
    "\n",
    "\n",
    "pivoted_data_cty.head()"
   ]
  },
  {
   "cell_type": "code",
   "execution_count": 171,
   "id": "f4d4e610",
   "metadata": {},
   "outputs": [
    {
     "data": {
      "image/png": "[encoded data removed]",
      "text/plain": [
       "<Figure size 1080x432 with 1 Axes>"
      ]
     },
     "metadata": {},
     "output_type": "display_data"
    },
    {
     "data": {
      "text/html": [
       "<div>\n",
       "<style scoped>\n",
       "    .dataframe tbody tr th:only-of-type {\n",
       "        vertical-align: middle;\n",
       "    }\n",
       "\n",
       "    .dataframe tbody tr th {\n",
       "        vertical-align: top;\n",
       "    }\n",
       "\n",
       "    .dataframe thead th {\n",
       "        text-align: right;\n",
       "    }\n",
       "</style>\n",
       "<table border=\"1\" class=\"dataframe\">\n",
       "  <thead>\n",
       "    <tr style=\"text-align: right;\">\n",
       "      <th>Make</th>\n",
       "      <th>AUDI</th>\n",
       "      <th>BMW</th>\n",
       "      <th>CHEVROLET</th>\n",
       "      <th>FORD</th>\n",
       "      <th>KIA</th>\n",
       "      <th>NISSAN</th>\n",
       "      <th>TESLA</th>\n",
       "      <th>TOYOTA</th>\n",
       "      <th>VOLKSWAGEN</th>\n",
       "      <th>VOLVO</th>\n",
       "    </tr>\n",
       "    <tr>\n",
       "      <th>State</th>\n",
       "      <th></th>\n",
       "      <th></th>\n",
       "      <th></th>\n",
       "      <th></th>\n",
       "      <th></th>\n",
       "      <th></th>\n",
       "      <th></th>\n",
       "      <th></th>\n",
       "      <th></th>\n",
       "      <th></th>\n",
       "    </tr>\n",
       "  </thead>\n",
       "  <tbody>\n",
       "    <tr>\n",
       "      <th>AZ</th>\n",
       "      <td>0.0</td>\n",
       "      <td>0.0</td>\n",
       "      <td>0.0</td>\n",
       "      <td>0.0</td>\n",
       "      <td>0.0</td>\n",
       "      <td>1.0</td>\n",
       "      <td>3.0</td>\n",
       "      <td>1.0</td>\n",
       "      <td>0.0</td>\n",
       "      <td>1.0</td>\n",
       "    </tr>\n",
       "    <tr>\n",
       "      <th>CA</th>\n",
       "      <td>2.0</td>\n",
       "      <td>1.0</td>\n",
       "      <td>3.0</td>\n",
       "      <td>7.0</td>\n",
       "      <td>1.0</td>\n",
       "      <td>2.0</td>\n",
       "      <td>40.0</td>\n",
       "      <td>6.0</td>\n",
       "      <td>2.0</td>\n",
       "      <td>4.0</td>\n",
       "    </tr>\n",
       "    <tr>\n",
       "      <th>CO</th>\n",
       "      <td>0.0</td>\n",
       "      <td>1.0</td>\n",
       "      <td>2.0</td>\n",
       "      <td>0.0</td>\n",
       "      <td>0.0</td>\n",
       "      <td>0.0</td>\n",
       "      <td>4.0</td>\n",
       "      <td>0.0</td>\n",
       "      <td>0.0</td>\n",
       "      <td>0.0</td>\n",
       "    </tr>\n",
       "    <tr>\n",
       "      <th>GA</th>\n",
       "      <td>0.0</td>\n",
       "      <td>1.0</td>\n",
       "      <td>0.0</td>\n",
       "      <td>1.0</td>\n",
       "      <td>1.0</td>\n",
       "      <td>1.0</td>\n",
       "      <td>1.0</td>\n",
       "      <td>0.0</td>\n",
       "      <td>1.0</td>\n",
       "      <td>1.0</td>\n",
       "    </tr>\n",
       "    <tr>\n",
       "      <th>MD</th>\n",
       "      <td>1.0</td>\n",
       "      <td>1.0</td>\n",
       "      <td>2.0</td>\n",
       "      <td>2.0</td>\n",
       "      <td>0.0</td>\n",
       "      <td>1.0</td>\n",
       "      <td>10.0</td>\n",
       "      <td>2.0</td>\n",
       "      <td>0.0</td>\n",
       "      <td>1.0</td>\n",
       "    </tr>\n",
       "    <tr>\n",
       "      <th>NC</th>\n",
       "      <td>0.0</td>\n",
       "      <td>1.0</td>\n",
       "      <td>1.0</td>\n",
       "      <td>0.0</td>\n",
       "      <td>1.0</td>\n",
       "      <td>0.0</td>\n",
       "      <td>3.0</td>\n",
       "      <td>0.0</td>\n",
       "      <td>0.0</td>\n",
       "      <td>0.0</td>\n",
       "    </tr>\n",
       "    <tr>\n",
       "      <th>NV</th>\n",
       "      <td>0.0</td>\n",
       "      <td>0.0</td>\n",
       "      <td>2.0</td>\n",
       "      <td>1.0</td>\n",
       "      <td>0.0</td>\n",
       "      <td>0.0</td>\n",
       "      <td>5.0</td>\n",
       "      <td>0.0</td>\n",
       "      <td>0.0</td>\n",
       "      <td>0.0</td>\n",
       "    </tr>\n",
       "    <tr>\n",
       "      <th>TX</th>\n",
       "      <td>0.0</td>\n",
       "      <td>0.0</td>\n",
       "      <td>0.0</td>\n",
       "      <td>4.0</td>\n",
       "      <td>0.0</td>\n",
       "      <td>0.0</td>\n",
       "      <td>9.0</td>\n",
       "      <td>1.0</td>\n",
       "      <td>0.0</td>\n",
       "      <td>0.0</td>\n",
       "    </tr>\n",
       "    <tr>\n",
       "      <th>VA</th>\n",
       "      <td>0.0</td>\n",
       "      <td>3.0</td>\n",
       "      <td>4.0</td>\n",
       "      <td>2.0</td>\n",
       "      <td>1.0</td>\n",
       "      <td>2.0</td>\n",
       "      <td>17.0</td>\n",
       "      <td>3.0</td>\n",
       "      <td>1.0</td>\n",
       "      <td>0.0</td>\n",
       "    </tr>\n",
       "    <tr>\n",
       "      <th>WA</th>\n",
       "      <td>2327.0</td>\n",
       "      <td>4665.0</td>\n",
       "      <td>10162.0</td>\n",
       "      <td>5795.0</td>\n",
       "      <td>4476.0</td>\n",
       "      <td>12866.0</td>\n",
       "      <td>51944.0</td>\n",
       "      <td>4384.0</td>\n",
       "      <td>2509.0</td>\n",
       "      <td>2281.0</td>\n",
       "    </tr>\n",
       "  </tbody>\n",
       "</table>\n",
       "</div>"
      ],
      "text/plain": [
       "Make     AUDI     BMW  CHEVROLET    FORD     KIA   NISSAN    TESLA  TOYOTA  \\\n",
       "State                                                                        \n",
       "AZ        0.0     0.0        0.0     0.0     0.0      1.0      3.0     1.0   \n",
       "CA        2.0     1.0        3.0     7.0     1.0      2.0     40.0     6.0   \n",
       "CO        0.0     1.0        2.0     0.0     0.0      0.0      4.0     0.0   \n",
       "GA        0.0     1.0        0.0     1.0     1.0      1.0      1.0     0.0   \n",
       "MD        1.0     1.0        2.0     2.0     0.0      1.0     10.0     2.0   \n",
       "NC        0.0     1.0        1.0     0.0     1.0      0.0      3.0     0.0   \n",
       "NV        0.0     0.0        2.0     1.0     0.0      0.0      5.0     0.0   \n",
       "TX        0.0     0.0        0.0     4.0     0.0      0.0      9.0     1.0   \n",
       "VA        0.0     3.0        4.0     2.0     1.0      2.0     17.0     3.0   \n",
       "WA     2327.0  4665.0    10162.0  5795.0  4476.0  12866.0  51944.0  4384.0   \n",
       "\n",
       "Make   VOLKSWAGEN   VOLVO  \n",
       "State                      \n",
       "AZ            0.0     1.0  \n",
       "CA            2.0     4.0  \n",
       "CO            0.0     0.0  \n",
       "GA            1.0     1.0  \n",
       "MD            0.0     1.0  \n",
       "NC            0.0     0.0  \n",
       "NV            0.0     0.0  \n",
       "TX            0.0     0.0  \n",
       "VA            1.0     0.0  \n",
       "WA         2509.0  2281.0  "
      ]
     },
     "execution_count": 171,
     "metadata": {},
     "output_type": "execute_result"
    }
   ],
   "source": [
    "cnt_Mk_St = df.groupby(['State', 'Make']).size().reset_index(name='Count')\n",
    "\n",
    "# Group the data by county and make, and sum the counts for each group\n",
    "grouped_data_St = cnt_Mk_St.groupby(['State', 'Make'])['Count'].sum().reset_index()\n",
    "\n",
    "# Group the data by county and sum the counts for each county\n",
    "st_counts = grouped_data_St.groupby('State')['Count'].sum().reset_index()\n",
    "make_counts = grouped_data_St.groupby('Make')['Count'].sum().reset_index()\n",
    "\n",
    "\n",
    "# Sort the counties by count in descending order, and select the top 10\n",
    "top_States = st_counts.sort_values(by='Count', ascending=False).head(10)\n",
    "top_makes = make_counts.sort_values(by='Count', ascending=False).head(10)\n",
    "\n",
    "\n",
    "# Filter the data to only include the top 10 counties\n",
    "filtered_data_St = grouped_data_St[grouped_data_St['State'].isin(top_States['State']) & grouped_data_St['Make'].isin(top_makes['Make'])]\n",
    "\n",
    "\n",
    "# Pivot the data to create a matrix with counties as rows, makes as columns, and counts as values\n",
    "pivoted_data_St = filtered_data_St.pivot(index='State', columns='Make', values='Count').fillna(0)\n",
    "\n",
    "# Create a stacked bar plot of the pivoted data\n",
    "pivoted_data_St.plot(kind='bar', stacked=True)\n",
    "\n",
    "# Set the title and axis labels\n",
    "plt.title('Top 10 Make distribution count per top 10 State')\n",
    "plt.yscale('log')\n",
    "plt.xlabel('State')\n",
    "plt.ylabel('Number of Cars')\n",
    "\n",
    "# Show the plot\n",
    "plt.show()\n",
    "\n",
    "\n",
    "pivoted_data_St.head(10)"
   ]
  },
  {
   "cell_type": "code",
   "execution_count": 172,
   "id": "2635d08e",
   "metadata": {},
   "outputs": [
    {
     "data": {
      "image/png": "[encoded data removed]",
      "text/plain": [
       "<Figure size 1080x432 with 1 Axes>"
      ]
     },
     "metadata": {},
     "output_type": "display_data"
    },
    {
     "data": {
      "text/html": [
       "<div>\n",
       "<style scoped>\n",
       "    .dataframe tbody tr th:only-of-type {\n",
       "        vertical-align: middle;\n",
       "    }\n",
       "\n",
       "    .dataframe tbody tr th {\n",
       "        vertical-align: top;\n",
       "    }\n",
       "\n",
       "    .dataframe thead th {\n",
       "        text-align: right;\n",
       "    }\n",
       "</style>\n",
       "<table border=\"1\" class=\"dataframe\">\n",
       "  <thead>\n",
       "    <tr style=\"text-align: right;\">\n",
       "      <th></th>\n",
       "      <th>State</th>\n",
       "      <th>Electric_Vehicle_Type</th>\n",
       "      <th>Count</th>\n",
       "    </tr>\n",
       "  </thead>\n",
       "  <tbody>\n",
       "    <tr>\n",
       "      <th>6</th>\n",
       "      <td>CA</td>\n",
       "      <td>Battery Electric Vehicle (BEV)</td>\n",
       "      <td>50</td>\n",
       "    </tr>\n",
       "    <tr>\n",
       "      <th>7</th>\n",
       "      <td>CA</td>\n",
       "      <td>Plug-in Hybrid Electric Vehicle (PHEV)</td>\n",
       "      <td>26</td>\n",
       "    </tr>\n",
       "    <tr>\n",
       "      <th>8</th>\n",
       "      <td>CO</td>\n",
       "      <td>Battery Electric Vehicle (BEV)</td>\n",
       "      <td>7</td>\n",
       "    </tr>\n",
       "    <tr>\n",
       "      <th>4</th>\n",
       "      <td>AZ</td>\n",
       "      <td>Battery Electric Vehicle (BEV)</td>\n",
       "      <td>4</td>\n",
       "    </tr>\n",
       "    <tr>\n",
       "      <th>2</th>\n",
       "      <td>AR</td>\n",
       "      <td>Battery Electric Vehicle (BEV)</td>\n",
       "      <td>3</td>\n",
       "    </tr>\n",
       "    <tr>\n",
       "      <th>5</th>\n",
       "      <td>AZ</td>\n",
       "      <td>Plug-in Hybrid Electric Vehicle (PHEV)</td>\n",
       "      <td>2</td>\n",
       "    </tr>\n",
       "    <tr>\n",
       "      <th>9</th>\n",
       "      <td>CO</td>\n",
       "      <td>Plug-in Hybrid Electric Vehicle (PHEV)</td>\n",
       "      <td>2</td>\n",
       "    </tr>\n",
       "    <tr>\n",
       "      <th>0</th>\n",
       "      <td>AK</td>\n",
       "      <td>Plug-in Hybrid Electric Vehicle (PHEV)</td>\n",
       "      <td>1</td>\n",
       "    </tr>\n",
       "    <tr>\n",
       "      <th>1</th>\n",
       "      <td>AL</td>\n",
       "      <td>Plug-in Hybrid Electric Vehicle (PHEV)</td>\n",
       "      <td>1</td>\n",
       "    </tr>\n",
       "    <tr>\n",
       "      <th>3</th>\n",
       "      <td>AR</td>\n",
       "      <td>Plug-in Hybrid Electric Vehicle (PHEV)</td>\n",
       "      <td>1</td>\n",
       "    </tr>\n",
       "  </tbody>\n",
       "</table>\n",
       "</div>"
      ],
      "text/plain": [
       "  State                   Electric_Vehicle_Type  Count\n",
       "6    CA          Battery Electric Vehicle (BEV)     50\n",
       "7    CA  Plug-in Hybrid Electric Vehicle (PHEV)     26\n",
       "8    CO          Battery Electric Vehicle (BEV)      7\n",
       "4    AZ          Battery Electric Vehicle (BEV)      4\n",
       "2    AR          Battery Electric Vehicle (BEV)      3\n",
       "5    AZ  Plug-in Hybrid Electric Vehicle (PHEV)      2\n",
       "9    CO  Plug-in Hybrid Electric Vehicle (PHEV)      2\n",
       "0    AK  Plug-in Hybrid Electric Vehicle (PHEV)      1\n",
       "1    AL  Plug-in Hybrid Electric Vehicle (PHEV)      1\n",
       "3    AR  Plug-in Hybrid Electric Vehicle (PHEV)      1"
      ]
     },
     "execution_count": 172,
     "metadata": {},
     "output_type": "execute_result"
    }
   ],
   "source": [
    "## EVT Distribution count per state\n",
    "evt_Dis_cnt = df.groupby(['State', 'Electric_Vehicle_Type']).size().reset_index(name='Count')\n",
    "evt_Dis_cnt.groupby(['State', 'Electric_Vehicle_Type'])['Count'].count().unstack().plot(kind='bar', stacked=True)\n",
    "\n",
    "# Move legend outside of plot\n",
    "plt.legend(bbox_to_anchor=(1.01, 1), loc='upper left')\n",
    "\n",
    "plt.show()\n",
    "\n",
    "evt_Dis_cnt.head(10).sort_values(by='Count', ascending=False)"
   ]
  },
  {
   "cell_type": "code",
   "execution_count": 173,
   "id": "b4d80fcc",
   "metadata": {},
   "outputs": [
    {
     "data": {
      "image/png": "[encoded data removed]",
      "text/plain": [
       "<Figure size 1080x432 with 1 Axes>"
      ]
     },
     "metadata": {},
     "output_type": "display_data"
    },
    {
     "data": {
      "text/html": [
       "<div>\n",
       "<style scoped>\n",
       "    .dataframe tbody tr th:only-of-type {\n",
       "        vertical-align: middle;\n",
       "    }\n",
       "\n",
       "    .dataframe tbody tr th {\n",
       "        vertical-align: top;\n",
       "    }\n",
       "\n",
       "    .dataframe thead th {\n",
       "        text-align: right;\n",
       "    }\n",
       "</style>\n",
       "<table border=\"1\" class=\"dataframe\">\n",
       "  <thead>\n",
       "    <tr style=\"text-align: right;\">\n",
       "      <th>Electric_Utility_Category</th>\n",
       "      <th>Multi type Utilities</th>\n",
       "      <th>Not Available</th>\n",
       "      <th>Only One Option</th>\n",
       "      <th>Single Type Utilities</th>\n",
       "    </tr>\n",
       "    <tr>\n",
       "      <th>City</th>\n",
       "      <th></th>\n",
       "      <th></th>\n",
       "      <th></th>\n",
       "      <th></th>\n",
       "    </tr>\n",
       "  </thead>\n",
       "  <tbody>\n",
       "    <tr>\n",
       "      <th>Auburn</th>\n",
       "      <td>1173.0</td>\n",
       "      <td>0.0</td>\n",
       "      <td>0.0</td>\n",
       "      <td>0.0</td>\n",
       "    </tr>\n",
       "    <tr>\n",
       "      <th>Bainbridge Island</th>\n",
       "      <td>0.0</td>\n",
       "      <td>12.0</td>\n",
       "      <td>1224.0</td>\n",
       "      <td>0.0</td>\n",
       "    </tr>\n",
       "    <tr>\n",
       "      <th>Bellevue</th>\n",
       "      <td>5920.0</td>\n",
       "      <td>1.0</td>\n",
       "      <td>0.0</td>\n",
       "      <td>0.0</td>\n",
       "    </tr>\n",
       "    <tr>\n",
       "      <th>Bellingham</th>\n",
       "      <td>1944.0</td>\n",
       "      <td>0.0</td>\n",
       "      <td>8.0</td>\n",
       "      <td>0.0</td>\n",
       "    </tr>\n",
       "    <tr>\n",
       "      <th>Bothell</th>\n",
       "      <td>733.0</td>\n",
       "      <td>0.0</td>\n",
       "      <td>2602.0</td>\n",
       "      <td>0.0</td>\n",
       "    </tr>\n",
       "    <tr>\n",
       "      <th>Bremerton</th>\n",
       "      <td>0.0</td>\n",
       "      <td>0.0</td>\n",
       "      <td>805.0</td>\n",
       "      <td>0.0</td>\n",
       "    </tr>\n",
       "    <tr>\n",
       "      <th>Camas</th>\n",
       "      <td>1020.0</td>\n",
       "      <td>0.0</td>\n",
       "      <td>0.0</td>\n",
       "      <td>0.0</td>\n",
       "    </tr>\n",
       "    <tr>\n",
       "      <th>Edmonds</th>\n",
       "      <td>0.0</td>\n",
       "      <td>3.0</td>\n",
       "      <td>1277.0</td>\n",
       "      <td>0.0</td>\n",
       "    </tr>\n",
       "    <tr>\n",
       "      <th>Everett</th>\n",
       "      <td>3.0</td>\n",
       "      <td>0.0</td>\n",
       "      <td>1474.0</td>\n",
       "      <td>0.0</td>\n",
       "    </tr>\n",
       "    <tr>\n",
       "      <th>Federal Way</th>\n",
       "      <td>853.0</td>\n",
       "      <td>0.0</td>\n",
       "      <td>0.0</td>\n",
       "      <td>0.0</td>\n",
       "    </tr>\n",
       "  </tbody>\n",
       "</table>\n",
       "</div>"
      ],
      "text/plain": [
       "Electric_Utility_Category  Multi type Utilities  Not Available  \\\n",
       "City                                                             \n",
       "Auburn                                   1173.0            0.0   \n",
       "Bainbridge Island                           0.0           12.0   \n",
       "Bellevue                                 5920.0            1.0   \n",
       "Bellingham                               1944.0            0.0   \n",
       "Bothell                                   733.0            0.0   \n",
       "Bremerton                                   0.0            0.0   \n",
       "Camas                                    1020.0            0.0   \n",
       "Edmonds                                     0.0            3.0   \n",
       "Everett                                     3.0            0.0   \n",
       "Federal Way                               853.0            0.0   \n",
       "\n",
       "Electric_Utility_Category  Only One Option  Single Type Utilities  \n",
       "City                                                               \n",
       "Auburn                                 0.0                    0.0  \n",
       "Bainbridge Island                   1224.0                    0.0  \n",
       "Bellevue                               0.0                    0.0  \n",
       "Bellingham                             8.0                    0.0  \n",
       "Bothell                             2602.0                    0.0  \n",
       "Bremerton                            805.0                    0.0  \n",
       "Camas                                  0.0                    0.0  \n",
       "Edmonds                             1277.0                    0.0  \n",
       "Everett                             1474.0                    0.0  \n",
       "Federal Way                            0.0                    0.0  "
      ]
     },
     "execution_count": 173,
     "metadata": {},
     "output_type": "execute_result"
    }
   ],
   "source": [
    "cnt_Cty_EUD = df.groupby(['City', 'Electric_Utility_Category']).size().reset_index(name='Count')\n",
    "\n",
    "# Group the data by county and make, and sum the counts for each group\n",
    "grouped_data_Cty_EUD = cnt_Cty_EUD.groupby(['City', 'Electric_Utility_Category'])['Count'].sum().reset_index()\n",
    "\n",
    "# Group the data by county and sum the counts for each county\n",
    "Cty_EUD_counts = grouped_data_Cty_EUD.groupby('City')['Count'].sum().reset_index()\n",
    "# make_counts = grouped_data_St.groupby('Make')['Count'].sum().reset_index()\n",
    "\n",
    "\n",
    "# Sort the counties by count in descending order, and select the top 10\n",
    "top_Cty_EUD_counts = Cty_EUD_counts.sort_values(by='Count', ascending=False).head(30)\n",
    "# top_makes = make_counts.sort_values(by='Count', ascending=False).head(10)\n",
    "\n",
    "\n",
    "# Filter the data to only include the top 10 counties\n",
    "filtered_data_Cty_EUD = grouped_data_Cty_EUD[grouped_data_Cty_EUD['City'].isin(top_Cty_EUD_counts['City'])]\n",
    "\n",
    "\n",
    "# Pivot the data to create a matrix with counties as rows, makes as columns, and counts as values\n",
    "pivoted_data_Cty_EUD = filtered_data_Cty_EUD.pivot(index='City', columns='Electric_Utility_Category', values='Count').fillna(0)\n",
    "\n",
    "# Create a stacked bar plot of the pivoted data\n",
    "pivoted_data_Cty_EUD.plot(kind='bar', stacked=True)\n",
    "\n",
    "# Set the title and axis labels\n",
    "plt.title('Electric Utility Distribution in top 10 cities with highest number of cars')\n",
    "# plt.yscale('log')\n",
    "plt.xlabel('City')\n",
    "plt.ylabel('Number of EUC')\n",
    "\n",
    "# Show the plot\n",
    "plt.show()\n",
    "\n",
    "\n",
    "pivoted_data_Cty_EUD.head(10)"
   ]
  },
  {
   "cell_type": "code",
   "execution_count": 174,
   "id": "2cda35c7",
   "metadata": {},
   "outputs": [
    {
     "data": {
      "text/plain": [
       "Text(0.5, 1.0, 'Bottom 5 Cars')"
      ]
     },
     "execution_count": 174,
     "metadata": {},
     "output_type": "execute_result"
    },
    {
     "data": {
      "image/png": "[encoded data removed]",
      "text/plain": [
       "<Figure size 1440x360 with 2 Axes>"
      ]
     },
     "metadata": {},
     "output_type": "display_data"
    }
   ],
   "source": [
    "car_market_share = pd.DataFrame(df.groupby('Make')['VIN'].count().reset_index()).sort_values(by='VIN',ascending=False).reset_index(drop=True)\n",
    "car_market_share.columns = ['model','count']\n",
    "car_market_share_top_5 = car_market_share.head(5)\n",
    "car_market_share_bottom_5 = car_market_share.tail(5)\n",
    "\n",
    "fig, axes = plt.subplots(1, 2, figsize=(20, 5))\n",
    "sns.barplot(data=car_market_share_top_5, x=\"model\", y=\"count\",ax=axes[0])\n",
    "sns.barplot(data=car_market_share_bottom_5, x=\"model\", y=\"count\",ax=axes[1])\n",
    "axes[0].set_title('Top 5 Cars')\n",
    "axes[1].set_title('Bottom 5 Cars')"
   ]
  },
  {
   "cell_type": "code",
   "execution_count": 175,
   "id": "398f2170",
   "metadata": {},
   "outputs": [],
   "source": [
    "import plotly.express as ps"
   ]
  },
  {
   "cell_type": "code",
   "execution_count": 176,
   "id": "ed79da97",
   "metadata": {},
   "outputs": [
    {
     "data": {
      "application/vnd.plotly.v1+json": {
       "config": {
        "plotlyServerURL": "https://plot.ly"
       },
       "data": [
        {
         "domain": {
          "x": [
           0,
           1
          ],
          "y": [
           0,
           1
          ]
         },
         "hole": true,
         "hovertemplate": "<b>%{hovertext}</b><br><br>model=%{label}<br>km_range=%{value}<extra></extra>",
         "hovertext": [
          207.2876712328767,
          118.1627558662007,
          109.76654881162837,
          100,
          89.32694099378882,
          85.62408759124088,
          67.63194289538255,
          62.876929674099486,
          62.282051282051285,
          56
         ],
         "labels": [
          "JAGUAR",
          "TESLA",
          "CHEVROLET",
          "TH!NK",
          "NISSAN",
          "FIAT",
          "KIA",
          "AUDI",
          "SMART",
          "AZURE DYNAMICS"
         ],
         "legendgroup": "",
         "name": "",
         "showlegend": true,
         "type": "pie",
         "values": [
          207.2876712328767,
          118.1627558662007,
          109.76654881162837,
          100,
          89.32694099378882,
          85.62408759124088,
          67.63194289538255,
          62.876929674099486,
          62.282051282051285,
          56
         ]
        }
       ],
       "layout": {
        "legend": {
         "tracegroupgap": 0
        },
        "template": {
         "data": {
          "bar": [
           {
            "error_x": {
             "color": "#2a3f5f"
            },
            "error_y": {
             "color": "#2a3f5f"
            },
            "marker": {
             "line": {
              "color": "#E5ECF6",
              "width": 0.5
             },
             "pattern": {
              "fillmode": "overlay",
              "size": 10,
              "solidity": 0.2
             }
            },
            "type": "bar"
           }
          ],
          "barpolar": [
           {
            "marker": {
             "line": {
              "color": "#E5ECF6",
              "width": 0.5
             },
             "pattern": {
              "fillmode": "overlay",
              "size": 10,
              "solidity": 0.2
             }
            },
            "type": "barpolar"
           }
          ],
          "carpet": [
           {
            "aaxis": {
             "endlinecolor": "#2a3f5f",
             "gridcolor": "white",
             "linecolor": "white",
             "minorgridcolor": "white",
             "startlinecolor": "#2a3f5f"
            },
            "baxis": {
             "endlinecolor": "#2a3f5f",
             "gridcolor": "white",
             "linecolor": "white",
             "minorgridcolor": "white",
             "startlinecolor": "#2a3f5f"
            },
            "type": "carpet"
           }
          ],
          "choropleth": [
           {
            "colorbar": {
             "outlinewidth": 0,
             "ticks": ""
            },
            "type": "choropleth"
           }
          ],
          "contour": [
           {
            "colorbar": {
             "outlinewidth": 0,
             "ticks": ""
            },
            "colorscale": [
             [
              0,
              "#0d0887"
             ],
             [
              0.1111111111111111,
              "#46039f"
             ],
             [
              0.2222222222222222,
              "#7201a8"
             ],
             [
              0.3333333333333333,
              "#9c179e"
             ],
             [
              0.4444444444444444,
              "#bd3786"
             ],
             [
              0.5555555555555556,
              "#d8576b"
             ],
             [
              0.6666666666666666,
              "#ed7953"
             ],
             [
              0.7777777777777778,
              "#fb9f3a"
             ],
             [
              0.8888888888888888,
              "#fdca26"
             ],
             [
              1,
              "#f0f921"
             ]
            ],
            "type": "contour"
           }
          ],
          "contourcarpet": [
           {
            "colorbar": {
             "outlinewidth": 0,
             "ticks": ""
            },
            "type": "contourcarpet"
           }
          ],
          "heatmap": [
           {
            "colorbar": {
             "outlinewidth": 0,
             "ticks": ""
            },
            "colorscale": [
             [
              0,
              "#0d0887"
             ],
             [
              0.1111111111111111,
              "#46039f"
             ],
             [
              0.2222222222222222,
              "#7201a8"
             ],
             [
              0.3333333333333333,
              "#9c179e"
             ],
             [
              0.4444444444444444,
              "#bd3786"
             ],
             [
              0.5555555555555556,
              "#d8576b"
             ],
             [
              0.6666666666666666,
              "#ed7953"
             ],
             [
              0.7777777777777778,
              "#fb9f3a"
             ],
             [
              0.8888888888888888,
              "#fdca26"
             ],
             [
              1,
              "#f0f921"
             ]
            ],
            "type": "heatmap"
           }
          ],
          "heatmapgl": [
           {
            "colorbar": {
             "outlinewidth": 0,
             "ticks": ""
            },
            "colorscale": [
             [
              0,
              "#0d0887"
             ],
             [
              0.1111111111111111,
              "#46039f"
             ],
             [
              0.2222222222222222,
              "#7201a8"
             ],
             [
              0.3333333333333333,
              "#9c179e"
             ],
             [
              0.4444444444444444,
              "#bd3786"
             ],
             [
              0.5555555555555556,
              "#d8576b"
             ],
             [
              0.6666666666666666,
              "#ed7953"
             ],
             [
              0.7777777777777778,
              "#fb9f3a"
             ],
             [
              0.8888888888888888,
              "#fdca26"
             ],
             [
              1,
              "#f0f921"
             ]
            ],
            "type": "heatmapgl"
           }
          ],
          "histogram": [
           {
            "marker": {
             "pattern": {
              "fillmode": "overlay",
              "size": 10,
              "solidity": 0.2
             }
            },
            "type": "histogram"
           }
          ],
          "histogram2d": [
           {
            "colorbar": {
             "outlinewidth": 0,
             "ticks": ""
            },
            "colorscale": [
             [
              0,
              "#0d0887"
             ],
             [
              0.1111111111111111,
              "#46039f"
             ],
             [
              0.2222222222222222,
              "#7201a8"
             ],
             [
              0.3333333333333333,
              "#9c179e"
             ],
             [
              0.4444444444444444,
              "#bd3786"
             ],
             [
              0.5555555555555556,
              "#d8576b"
             ],
             [
              0.6666666666666666,
              "#ed7953"
             ],
             [
              0.7777777777777778,
              "#fb9f3a"
             ],
             [
              0.8888888888888888,
              "#fdca26"
             ],
             [
              1,
              "#f0f921"
             ]
            ],
            "type": "histogram2d"
           }
          ],
          "histogram2dcontour": [
           {
            "colorbar": {
             "outlinewidth": 0,
             "ticks": ""
            },
            "colorscale": [
             [
              0,
              "#0d0887"
             ],
             [
              0.1111111111111111,
              "#46039f"
             ],
             [
              0.2222222222222222,
              "#7201a8"
             ],
             [
              0.3333333333333333,
              "#9c179e"
             ],
             [
              0.4444444444444444,
              "#bd3786"
             ],
             [
              0.5555555555555556,
              "#d8576b"
             ],
             [
              0.6666666666666666,
              "#ed7953"
             ],
             [
              0.7777777777777778,
              "#fb9f3a"
             ],
             [
              0.8888888888888888,
              "#fdca26"
             ],
             [
              1,
              "#f0f921"
             ]
            ],
            "type": "histogram2dcontour"
           }
          ],
          "mesh3d": [
           {
            "colorbar": {
             "outlinewidth": 0,
             "ticks": ""
            },
            "type": "mesh3d"
           }
          ],
          "parcoords": [
           {
            "line": {
             "colorbar": {
              "outlinewidth": 0,
              "ticks": ""
             }
            },
            "type": "parcoords"
           }
          ],
          "pie": [
           {
            "automargin": true,
            "type": "pie"
           }
          ],
          "scatter": [
           {
            "fillpattern": {
             "fillmode": "overlay",
             "size": 10,
             "solidity": 0.2
            },
            "type": "scatter"
           }
          ],
          "scatter3d": [
           {
            "line": {
             "colorbar": {
              "outlinewidth": 0,
              "ticks": ""
             }
            },
            "marker": {
             "colorbar": {
              "outlinewidth": 0,
              "ticks": ""
             }
            },
            "type": "scatter3d"
           }
          ],
          "scattercarpet": [
           {
            "marker": {
             "colorbar": {
              "outlinewidth": 0,
              "ticks": ""
             }
            },
            "type": "scattercarpet"
           }
          ],
          "scattergeo": [
           {
            "marker": {
             "colorbar": {
              "outlinewidth": 0,
              "ticks": ""
             }
            },
            "type": "scattergeo"
           }
          ],
          "scattergl": [
           {
            "marker": {
             "colorbar": {
              "outlinewidth": 0,
              "ticks": ""
             }
            },
            "type": "scattergl"
           }
          ],
          "scattermapbox": [
           {
            "marker": {
             "colorbar": {
              "outlinewidth": 0,
              "ticks": ""
             }
            },
            "type": "scattermapbox"
           }
          ],
          "scatterpolar": [
           {
            "marker": {
             "colorbar": {
              "outlinewidth": 0,
              "ticks": ""
             }
            },
            "type": "scatterpolar"
           }
          ],
          "scatterpolargl": [
           {
            "marker": {
             "colorbar": {
              "outlinewidth": 0,
              "ticks": ""
             }
            },
            "type": "scatterpolargl"
           }
          ],
          "scatterternary": [
           {
            "marker": {
             "colorbar": {
              "outlinewidth": 0,
              "ticks": ""
             }
            },
            "type": "scatterternary"
           }
          ],
          "surface": [
           {
            "colorbar": {
             "outlinewidth": 0,
             "ticks": ""
            },
            "colorscale": [
             [
              0,
              "#0d0887"
             ],
             [
              0.1111111111111111,
              "#46039f"
             ],
             [
              0.2222222222222222,
              "#7201a8"
             ],
             [
              0.3333333333333333,
              "#9c179e"
             ],
             [
              0.4444444444444444,
              "#bd3786"
             ],
             [
              0.5555555555555556,
              "#d8576b"
             ],
             [
              0.6666666666666666,
              "#ed7953"
             ],
             [
              0.7777777777777778,
              "#fb9f3a"
             ],
             [
              0.8888888888888888,
              "#fdca26"
             ],
             [
              1,
              "#f0f921"
             ]
            ],
            "type": "surface"
           }
          ],
          "table": [
           {
            "cells": {
             "fill": {
              "color": "#EBF0F8"
             },
             "line": {
              "color": "white"
             }
            },
            "header": {
             "fill": {
              "color": "#C8D4E3"
             },
             "line": {
              "color": "white"
             }
            },
            "type": "table"
           }
          ]
         },
         "layout": {
          "annotationdefaults": {
           "arrowcolor": "#2a3f5f",
           "arrowhead": 0,
           "arrowwidth": 1
          },
          "autotypenumbers": "strict",
          "coloraxis": {
           "colorbar": {
            "outlinewidth": 0,
            "ticks": ""
           }
          },
          "colorscale": {
           "diverging": [
            [
             0,
             "#8e0152"
            ],
            [
             0.1,
             "#c51b7d"
            ],
            [
             0.2,
             "#de77ae"
            ],
            [
             0.3,
             "#f1b6da"
            ],
            [
             0.4,
             "#fde0ef"
            ],
            [
             0.5,
             "#f7f7f7"
            ],
            [
             0.6,
             "#e6f5d0"
            ],
            [
             0.7,
             "#b8e186"
            ],
            [
             0.8,
             "#7fbc41"
            ],
            [
             0.9,
             "#4d9221"
            ],
            [
             1,
             "#276419"
            ]
           ],
           "sequential": [
            [
             0,
             "#0d0887"
            ],
            [
             0.1111111111111111,
             "#46039f"
            ],
            [
             0.2222222222222222,
             "#7201a8"
            ],
            [
             0.3333333333333333,
             "#9c179e"
            ],
            [
             0.4444444444444444,
             "#bd3786"
            ],
            [
             0.5555555555555556,
             "#d8576b"
            ],
            [
             0.6666666666666666,
             "#ed7953"
            ],
            [
             0.7777777777777778,
             "#fb9f3a"
            ],
            [
             0.8888888888888888,
             "#fdca26"
            ],
            [
             1,
             "#f0f921"
            ]
           ],
           "sequentialminus": [
            [
             0,
             "#0d0887"
            ],
            [
             0.1111111111111111,
             "#46039f"
            ],
            [
             0.2222222222222222,
             "#7201a8"
            ],
            [
             0.3333333333333333,
             "#9c179e"
            ],
            [
             0.4444444444444444,
             "#bd3786"
            ],
            [
             0.5555555555555556,
             "#d8576b"
            ],
            [
             0.6666666666666666,
             "#ed7953"
            ],
            [
             0.7777777777777778,
             "#fb9f3a"
            ],
            [
             0.8888888888888888,
             "#fdca26"
            ],
            [
             1,
             "#f0f921"
            ]
           ]
          },
          "colorway": [
           "#636efa",
           "#EF553B",
           "#00cc96",
           "#ab63fa",
           "#FFA15A",
           "#19d3f3",
           "#FF6692",
           "#B6E880",
           "#FF97FF",
           "#FECB52"
          ],
          "font": {
           "color": "#2a3f5f"
          },
          "geo": {
           "bgcolor": "white",
           "lakecolor": "white",
           "landcolor": "#E5ECF6",
           "showlakes": true,
           "showland": true,
           "subunitcolor": "white"
          },
          "hoverlabel": {
           "align": "left"
          },
          "hovermode": "closest",
          "mapbox": {
           "style": "light"
          },
          "paper_bgcolor": "white",
          "plot_bgcolor": "#E5ECF6",
          "polar": {
           "angularaxis": {
            "gridcolor": "white",
            "linecolor": "white",
            "ticks": ""
           },
           "bgcolor": "#E5ECF6",
           "radialaxis": {
            "gridcolor": "white",
            "linecolor": "white",
            "ticks": ""
           }
          },
          "scene": {
           "xaxis": {
            "backgroundcolor": "#E5ECF6",
            "gridcolor": "white",
            "gridwidth": 2,
            "linecolor": "white",
            "showbackground": true,
            "ticks": "",
            "zerolinecolor": "white"
           },
           "yaxis": {
            "backgroundcolor": "#E5ECF6",
            "gridcolor": "white",
            "gridwidth": 2,
            "linecolor": "white",
            "showbackground": true,
            "ticks": "",
            "zerolinecolor": "white"
           },
           "zaxis": {
            "backgroundcolor": "#E5ECF6",
            "gridcolor": "white",
            "gridwidth": 2,
            "linecolor": "white",
            "showbackground": true,
            "ticks": "",
            "zerolinecolor": "white"
           }
          },
          "shapedefaults": {
           "line": {
            "color": "#2a3f5f"
           }
          },
          "ternary": {
           "aaxis": {
            "gridcolor": "white",
            "linecolor": "white",
            "ticks": ""
           },
           "baxis": {
            "gridcolor": "white",
            "linecolor": "white",
            "ticks": ""
           },
           "bgcolor": "#E5ECF6",
           "caxis": {
            "gridcolor": "white",
            "linecolor": "white",
            "ticks": ""
           }
          },
          "title": {
           "x": 0.05
          },
          "xaxis": {
           "automargin": true,
           "gridcolor": "white",
           "linecolor": "white",
           "ticks": "",
           "title": {
            "standoff": 15
           },
           "zerolinecolor": "white",
           "zerolinewidth": 2
          },
          "yaxis": {
           "automargin": true,
           "gridcolor": "white",
           "linecolor": "white",
           "ticks": "",
           "title": {
            "standoff": 15
           },
           "zerolinecolor": "white",
           "zerolinewidth": 2
          }
         }
        },
        "title": {
         "text": "Top 10 Model with KM range"
        }
       }
      },
      "text/html": [
       "<div>                            <div id=\"0cc4c36c-a2a3-4bb6-b29f-6a192f6c98a6\" class=\"plotly-graph-div\" style=\"height:525px; width:100%;\"></div>            <script type=\"text/javascript\">                require([\"plotly\"], function(Plotly) {                    window.PLOTLYENV=window.PLOTLYENV || {};                                    if (document.getElementById(\"0cc4c36c-a2a3-4bb6-b29f-6a192f6c98a6\")) {                    Plotly.newPlot(                        \"0cc4c36c-a2a3-4bb6-b29f-6a192f6c98a6\",                        [{\"domain\":{\"x\":[0.0,1.0],\"y\":[0.0,1.0]},\"hole\":true,\"hovertemplate\":\"\\u003cb\\u003e%{hovertext}\\u003c\\u002fb\\u003e\\u003cbr\\u003e\\u003cbr\\u003emodel=%{label}\\u003cbr\\u003ekm_range=%{value}\\u003cextra\\u003e\\u003c\\u002fextra\\u003e\",\"hovertext\":[207.2876712328767,118.1627558662007,109.76654881162837,100.0,89.32694099378882,85.62408759124088,67.63194289538255,62.876929674099486,62.282051282051285,56.0],\"labels\":[\"JAGUAR\",\"TESLA\",\"CHEVROLET\",\"TH!NK\",\"NISSAN\",\"FIAT\",\"KIA\",\"AUDI\",\"SMART\",\"AZURE DYNAMICS\"],\"legendgroup\":\"\",\"name\":\"\",\"showlegend\":true,\"values\":[207.2876712328767,118.1627558662007,109.76654881162837,100.0,89.32694099378882,85.62408759124088,67.63194289538255,62.876929674099486,62.282051282051285,56.0],\"type\":\"pie\"}],                        {\"template\":{\"data\":{\"histogram2dcontour\":[{\"type\":\"histogram2dcontour\",\"colorbar\":{\"outlinewidth\":0,\"ticks\":\"\"},\"colorscale\":[[0.0,\"#0d0887\"],[0.1111111111111111,\"#46039f\"],[0.2222222222222222,\"#7201a8\"],[0.3333333333333333,\"#9c179e\"],[0.4444444444444444,\"#bd3786\"],[0.5555555555555556,\"#d8576b\"],[0.6666666666666666,\"#ed7953\"],[0.7777777777777778,\"#fb9f3a\"],[0.8888888888888888,\"#fdca26\"],[1.0,\"#f0f921\"]]}],\"choropleth\":[{\"type\":\"choropleth\",\"colorbar\":{\"outlinewidth\":0,\"ticks\":\"\"}}],\"histogram2d\":[{\"type\":\"histogram2d\",\"colorbar\":{\"outlinewidth\":0,\"ticks\":\"\"},\"colorscale\":[[0.0,\"#0d0887\"],[0.1111111111111111,\"#46039f\"],[0.2222222222222222,\"#7201a8\"],[0.3333333333333333,\"#9c179e\"],[0.4444444444444444,\"#bd3786\"],[0.5555555555555556,\"#d8576b\"],[0.6666666666666666,\"#ed7953\"],[0.7777777777777778,\"#fb9f3a\"],[0.8888888888888888,\"#fdca26\"],[1.0,\"#f0f921\"]]}],\"heatmap\":[{\"type\":\"heatmap\",\"colorbar\":{\"outlinewidth\":0,\"ticks\":\"\"},\"colorscale\":[[0.0,\"#0d0887\"],[0.1111111111111111,\"#46039f\"],[0.2222222222222222,\"#7201a8\"],[0.3333333333333333,\"#9c179e\"],[0.4444444444444444,\"#bd3786\"],[0.5555555555555556,\"#d8576b\"],[0.6666666666666666,\"#ed7953\"],[0.7777777777777778,\"#fb9f3a\"],[0.8888888888888888,\"#fdca26\"],[1.0,\"#f0f921\"]]}],\"heatmapgl\":[{\"type\":\"heatmapgl\",\"colorbar\":{\"outlinewidth\":0,\"ticks\":\"\"},\"colorscale\":[[0.0,\"#0d0887\"],[0.1111111111111111,\"#46039f\"],[0.2222222222222222,\"#7201a8\"],[0.3333333333333333,\"#9c179e\"],[0.4444444444444444,\"#bd3786\"],[0.5555555555555556,\"#d8576b\"],[0.6666666666666666,\"#ed7953\"],[0.7777777777777778,\"#fb9f3a\"],[0.8888888888888888,\"#fdca26\"],[1.0,\"#f0f921\"]]}],\"contourcarpet\":[{\"type\":\"contourcarpet\",\"colorbar\":{\"outlinewidth\":0,\"ticks\":\"\"}}],\"contour\":[{\"type\":\"contour\",\"colorbar\":{\"outlinewidth\":0,\"ticks\":\"\"},\"colorscale\":[[0.0,\"#0d0887\"],[0.1111111111111111,\"#46039f\"],[0.2222222222222222,\"#7201a8\"],[0.3333333333333333,\"#9c179e\"],[0.4444444444444444,\"#bd3786\"],[0.5555555555555556,\"#d8576b\"],[0.6666666666666666,\"#ed7953\"],[0.7777777777777778,\"#fb9f3a\"],[0.8888888888888888,\"#fdca26\"],[1.0,\"#f0f921\"]]}],\"surface\":[{\"type\":\"surface\",\"colorbar\":{\"outlinewidth\":0,\"ticks\":\"\"},\"colorscale\":[[0.0,\"#0d0887\"],[0.1111111111111111,\"#46039f\"],[0.2222222222222222,\"#7201a8\"],[0.3333333333333333,\"#9c179e\"],[0.4444444444444444,\"#bd3786\"],[0.5555555555555556,\"#d8576b\"],[0.6666666666666666,\"#ed7953\"],[0.7777777777777778,\"#fb9f3a\"],[0.8888888888888888,\"#fdca26\"],[1.0,\"#f0f921\"]]}],\"mesh3d\":[{\"type\":\"mesh3d\",\"colorbar\":{\"outlinewidth\":0,\"ticks\":\"\"}}],\"scatter\":[{\"fillpattern\":{\"fillmode\":\"overlay\",\"size\":10,\"solidity\":0.2},\"type\":\"scatter\"}],\"parcoords\":[{\"type\":\"parcoords\",\"line\":{\"colorbar\":{\"outlinewidth\":0,\"ticks\":\"\"}}}],\"scatterpolargl\":[{\"type\":\"scatterpolargl\",\"marker\":{\"colorbar\":{\"outlinewidth\":0,\"ticks\":\"\"}}}],\"bar\":[{\"error_x\":{\"color\":\"#2a3f5f\"},\"error_y\":{\"color\":\"#2a3f5f\"},\"marker\":{\"line\":{\"color\":\"#E5ECF6\",\"width\":0.5},\"pattern\":{\"fillmode\":\"overlay\",\"size\":10,\"solidity\":0.2}},\"type\":\"bar\"}],\"scattergeo\":[{\"type\":\"scattergeo\",\"marker\":{\"colorbar\":{\"outlinewidth\":0,\"ticks\":\"\"}}}],\"scatterpolar\":[{\"type\":\"scatterpolar\",\"marker\":{\"colorbar\":{\"outlinewidth\":0,\"ticks\":\"\"}}}],\"histogram\":[{\"marker\":{\"pattern\":{\"fillmode\":\"overlay\",\"size\":10,\"solidity\":0.2}},\"type\":\"histogram\"}],\"scattergl\":[{\"type\":\"scattergl\",\"marker\":{\"colorbar\":{\"outlinewidth\":0,\"ticks\":\"\"}}}],\"scatter3d\":[{\"type\":\"scatter3d\",\"line\":{\"colorbar\":{\"outlinewidth\":0,\"ticks\":\"\"}},\"marker\":{\"colorbar\":{\"outlinewidth\":0,\"ticks\":\"\"}}}],\"scattermapbox\":[{\"type\":\"scattermapbox\",\"marker\":{\"colorbar\":{\"outlinewidth\":0,\"ticks\":\"\"}}}],\"scatterternary\":[{\"type\":\"scatterternary\",\"marker\":{\"colorbar\":{\"outlinewidth\":0,\"ticks\":\"\"}}}],\"scattercarpet\":[{\"type\":\"scattercarpet\",\"marker\":{\"colorbar\":{\"outlinewidth\":0,\"ticks\":\"\"}}}],\"carpet\":[{\"aaxis\":{\"endlinecolor\":\"#2a3f5f\",\"gridcolor\":\"white\",\"linecolor\":\"white\",\"minorgridcolor\":\"white\",\"startlinecolor\":\"#2a3f5f\"},\"baxis\":{\"endlinecolor\":\"#2a3f5f\",\"gridcolor\":\"white\",\"linecolor\":\"white\",\"minorgridcolor\":\"white\",\"startlinecolor\":\"#2a3f5f\"},\"type\":\"carpet\"}],\"table\":[{\"cells\":{\"fill\":{\"color\":\"#EBF0F8\"},\"line\":{\"color\":\"white\"}},\"header\":{\"fill\":{\"color\":\"#C8D4E3\"},\"line\":{\"color\":\"white\"}},\"type\":\"table\"}],\"barpolar\":[{\"marker\":{\"line\":{\"color\":\"#E5ECF6\",\"width\":0.5},\"pattern\":{\"fillmode\":\"overlay\",\"size\":10,\"solidity\":0.2}},\"type\":\"barpolar\"}],\"pie\":[{\"automargin\":true,\"type\":\"pie\"}]},\"layout\":{\"autotypenumbers\":\"strict\",\"colorway\":[\"#636efa\",\"#EF553B\",\"#00cc96\",\"#ab63fa\",\"#FFA15A\",\"#19d3f3\",\"#FF6692\",\"#B6E880\",\"#FF97FF\",\"#FECB52\"],\"font\":{\"color\":\"#2a3f5f\"},\"hovermode\":\"closest\",\"hoverlabel\":{\"align\":\"left\"},\"paper_bgcolor\":\"white\",\"plot_bgcolor\":\"#E5ECF6\",\"polar\":{\"bgcolor\":\"#E5ECF6\",\"angularaxis\":{\"gridcolor\":\"white\",\"linecolor\":\"white\",\"ticks\":\"\"},\"radialaxis\":{\"gridcolor\":\"white\",\"linecolor\":\"white\",\"ticks\":\"\"}},\"ternary\":{\"bgcolor\":\"#E5ECF6\",\"aaxis\":{\"gridcolor\":\"white\",\"linecolor\":\"white\",\"ticks\":\"\"},\"baxis\":{\"gridcolor\":\"white\",\"linecolor\":\"white\",\"ticks\":\"\"},\"caxis\":{\"gridcolor\":\"white\",\"linecolor\":\"white\",\"ticks\":\"\"}},\"coloraxis\":{\"colorbar\":{\"outlinewidth\":0,\"ticks\":\"\"}},\"colorscale\":{\"sequential\":[[0.0,\"#0d0887\"],[0.1111111111111111,\"#46039f\"],[0.2222222222222222,\"#7201a8\"],[0.3333333333333333,\"#9c179e\"],[0.4444444444444444,\"#bd3786\"],[0.5555555555555556,\"#d8576b\"],[0.6666666666666666,\"#ed7953\"],[0.7777777777777778,\"#fb9f3a\"],[0.8888888888888888,\"#fdca26\"],[1.0,\"#f0f921\"]],\"sequentialminus\":[[0.0,\"#0d0887\"],[0.1111111111111111,\"#46039f\"],[0.2222222222222222,\"#7201a8\"],[0.3333333333333333,\"#9c179e\"],[0.4444444444444444,\"#bd3786\"],[0.5555555555555556,\"#d8576b\"],[0.6666666666666666,\"#ed7953\"],[0.7777777777777778,\"#fb9f3a\"],[0.8888888888888888,\"#fdca26\"],[1.0,\"#f0f921\"]],\"diverging\":[[0,\"#8e0152\"],[0.1,\"#c51b7d\"],[0.2,\"#de77ae\"],[0.3,\"#f1b6da\"],[0.4,\"#fde0ef\"],[0.5,\"#f7f7f7\"],[0.6,\"#e6f5d0\"],[0.7,\"#b8e186\"],[0.8,\"#7fbc41\"],[0.9,\"#4d9221\"],[1,\"#276419\"]]},\"xaxis\":{\"gridcolor\":\"white\",\"linecolor\":\"white\",\"ticks\":\"\",\"title\":{\"standoff\":15},\"zerolinecolor\":\"white\",\"automargin\":true,\"zerolinewidth\":2},\"yaxis\":{\"gridcolor\":\"white\",\"linecolor\":\"white\",\"ticks\":\"\",\"title\":{\"standoff\":15},\"zerolinecolor\":\"white\",\"automargin\":true,\"zerolinewidth\":2},\"scene\":{\"xaxis\":{\"backgroundcolor\":\"#E5ECF6\",\"gridcolor\":\"white\",\"linecolor\":\"white\",\"showbackground\":true,\"ticks\":\"\",\"zerolinecolor\":\"white\",\"gridwidth\":2},\"yaxis\":{\"backgroundcolor\":\"#E5ECF6\",\"gridcolor\":\"white\",\"linecolor\":\"white\",\"showbackground\":true,\"ticks\":\"\",\"zerolinecolor\":\"white\",\"gridwidth\":2},\"zaxis\":{\"backgroundcolor\":\"#E5ECF6\",\"gridcolor\":\"white\",\"linecolor\":\"white\",\"showbackground\":true,\"ticks\":\"\",\"zerolinecolor\":\"white\",\"gridwidth\":2}},\"shapedefaults\":{\"line\":{\"color\":\"#2a3f5f\"}},\"annotationdefaults\":{\"arrowcolor\":\"#2a3f5f\",\"arrowhead\":0,\"arrowwidth\":1},\"geo\":{\"bgcolor\":\"white\",\"landcolor\":\"#E5ECF6\",\"subunitcolor\":\"white\",\"showland\":true,\"showlakes\":true,\"lakecolor\":\"white\"},\"title\":{\"x\":0.05},\"mapbox\":{\"style\":\"light\"}}},\"legend\":{\"tracegroupgap\":0},\"title\":{\"text\":\"Top 10 Model with KM range\"}},                        {\"responsive\": true}                    ).then(function(){\n",
       "                            \n",
       "var gd = document.getElementById('0cc4c36c-a2a3-4bb6-b29f-6a192f6c98a6');\n",
       "var x = new MutationObserver(function (mutations, observer) {{\n",
       "        var display = window.getComputedStyle(gd).display;\n",
       "        if (!display || display === 'none') {{\n",
       "            console.log([gd, 'removed!']);\n",
       "            Plotly.purge(gd);\n",
       "            observer.disconnect();\n",
       "        }}\n",
       "}});\n",
       "\n",
       "// Listen for the removal of the full notebook cells\n",
       "var notebookContainer = gd.closest('#notebook-container');\n",
       "if (notebookContainer) {{\n",
       "    x.observe(notebookContainer, {childList: true});\n",
       "}}\n",
       "\n",
       "// Listen for the clearing of the current output cell\n",
       "var outputEl = gd.closest('.output');\n",
       "if (outputEl) {{\n",
       "    x.observe(outputEl, {childList: true});\n",
       "}}\n",
       "\n",
       "                        })                };                });            </script>        </div>"
      ]
     },
     "metadata": {},
     "output_type": "display_data"
    }
   ],
   "source": [
    "#import plotly.express as ps\n",
    "km_range = pd.DataFrame(df.groupby('Make')['Electric_Range'].mean().reset_index()).sort_values(by='Electric_Range',ascending=False).reset_index(drop=True).head(10)\n",
    "km_range.columns = ['model','km_range']\n",
    "ps.pie(data_frame=km_range, names='model', values='km_range', hover_name='km_range',title='Top 10 Model with KM range',hole=True)\n"
   ]
  },
  {
   "cell_type": "code",
   "execution_count": 177,
   "id": "729f1ab6",
   "metadata": {},
   "outputs": [
    {
     "data": {
      "application/vnd.plotly.v1+json": {
       "config": {
        "plotlyServerURL": "https://plot.ly"
       },
       "data": [
        {
         "hovertemplate": "year=%{x}<br>num_cars=%{y}<extra></extra>",
         "legendgroup": "",
         "line": {
          "color": "#636efa",
          "dash": "solid"
         },
         "marker": {
          "symbol": "circle"
         },
         "mode": "lines+markers",
         "name": "",
         "orientation": "v",
         "showlegend": false,
         "type": "scatter",
         "x": [
          1997,
          1998,
          1999,
          2000,
          2002,
          2008,
          2010,
          2011,
          2012,
          2013,
          2014,
          2015,
          2016,
          2017,
          2018,
          2019,
          2020,
          2021,
          2022,
          2023
         ],
         "xaxis": "x",
         "y": [
          1,
          1,
          3,
          10,
          2,
          23,
          24,
          840,
          1705,
          4691,
          3685,
          4940,
          5735,
          8644,
          14246,
          10266,
          11038,
          18364,
          26530,
          1886
         ],
         "yaxis": "y"
        }
       ],
       "layout": {
        "legend": {
         "tracegroupgap": 0
        },
        "template": {
         "data": {
          "bar": [
           {
            "error_x": {
             "color": "#2a3f5f"
            },
            "error_y": {
             "color": "#2a3f5f"
            },
            "marker": {
             "line": {
              "color": "#E5ECF6",
              "width": 0.5
             },
             "pattern": {
              "fillmode": "overlay",
              "size": 10,
              "solidity": 0.2
             }
            },
            "type": "bar"
           }
          ],
          "barpolar": [
           {
            "marker": {
             "line": {
              "color": "#E5ECF6",
              "width": 0.5
             },
             "pattern": {
              "fillmode": "overlay",
              "size": 10,
              "solidity": 0.2
             }
            },
            "type": "barpolar"
           }
          ],
          "carpet": [
           {
            "aaxis": {
             "endlinecolor": "#2a3f5f",
             "gridcolor": "white",
             "linecolor": "white",
             "minorgridcolor": "white",
             "startlinecolor": "#2a3f5f"
            },
            "baxis": {
             "endlinecolor": "#2a3f5f",
             "gridcolor": "white",
             "linecolor": "white",
             "minorgridcolor": "white",
             "startlinecolor": "#2a3f5f"
            },
            "type": "carpet"
           }
          ],
          "choropleth": [
           {
            "colorbar": {
             "outlinewidth": 0,
             "ticks": ""
            },
            "type": "choropleth"
           }
          ],
          "contour": [
           {
            "colorbar": {
             "outlinewidth": 0,
             "ticks": ""
            },
            "colorscale": [
             [
              0,
              "#0d0887"
             ],
             [
              0.1111111111111111,
              "#46039f"
             ],
             [
              0.2222222222222222,
              "#7201a8"
             ],
             [
              0.3333333333333333,
              "#9c179e"
             ],
             [
              0.4444444444444444,
              "#bd3786"
             ],
             [
              0.5555555555555556,
              "#d8576b"
             ],
             [
              0.6666666666666666,
              "#ed7953"
             ],
             [
              0.7777777777777778,
              "#fb9f3a"
             ],
             [
              0.8888888888888888,
              "#fdca26"
             ],
             [
              1,
              "#f0f921"
             ]
            ],
            "type": "contour"
           }
          ],
          "contourcarpet": [
           {
            "colorbar": {
             "outlinewidth": 0,
             "ticks": ""
            },
            "type": "contourcarpet"
           }
          ],
          "heatmap": [
           {
            "colorbar": {
             "outlinewidth": 0,
             "ticks": ""
            },
            "colorscale": [
             [
              0,
              "#0d0887"
             ],
             [
              0.1111111111111111,
              "#46039f"
             ],
             [
              0.2222222222222222,
              "#7201a8"
             ],
             [
              0.3333333333333333,
              "#9c179e"
             ],
             [
              0.4444444444444444,
              "#bd3786"
             ],
             [
              0.5555555555555556,
              "#d8576b"
             ],
             [
              0.6666666666666666,
              "#ed7953"
             ],
             [
              0.7777777777777778,
              "#fb9f3a"
             ],
             [
              0.8888888888888888,
              "#fdca26"
             ],
             [
              1,
              "#f0f921"
             ]
            ],
            "type": "heatmap"
           }
          ],
          "heatmapgl": [
           {
            "colorbar": {
             "outlinewidth": 0,
             "ticks": ""
            },
            "colorscale": [
             [
              0,
              "#0d0887"
             ],
             [
              0.1111111111111111,
              "#46039f"
             ],
             [
              0.2222222222222222,
              "#7201a8"
             ],
             [
              0.3333333333333333,
              "#9c179e"
             ],
             [
              0.4444444444444444,
              "#bd3786"
             ],
             [
              0.5555555555555556,
              "#d8576b"
             ],
             [
              0.6666666666666666,
              "#ed7953"
             ],
             [
              0.7777777777777778,
              "#fb9f3a"
             ],
             [
              0.8888888888888888,
              "#fdca26"
             ],
             [
              1,
              "#f0f921"
             ]
            ],
            "type": "heatmapgl"
           }
          ],
          "histogram": [
           {
            "marker": {
             "pattern": {
              "fillmode": "overlay",
              "size": 10,
              "solidity": 0.2
             }
            },
            "type": "histogram"
           }
          ],
          "histogram2d": [
           {
            "colorbar": {
             "outlinewidth": 0,
             "ticks": ""
            },
            "colorscale": [
             [
              0,
              "#0d0887"
             ],
             [
              0.1111111111111111,
              "#46039f"
             ],
             [
              0.2222222222222222,
              "#7201a8"
             ],
             [
              0.3333333333333333,
              "#9c179e"
             ],
             [
              0.4444444444444444,
              "#bd3786"
             ],
             [
              0.5555555555555556,
              "#d8576b"
             ],
             [
              0.6666666666666666,
              "#ed7953"
             ],
             [
              0.7777777777777778,
              "#fb9f3a"
             ],
             [
              0.8888888888888888,
              "#fdca26"
             ],
             [
              1,
              "#f0f921"
             ]
            ],
            "type": "histogram2d"
           }
          ],
          "histogram2dcontour": [
           {
            "colorbar": {
             "outlinewidth": 0,
             "ticks": ""
            },
            "colorscale": [
             [
              0,
              "#0d0887"
             ],
             [
              0.1111111111111111,
              "#46039f"
             ],
             [
              0.2222222222222222,
              "#7201a8"
             ],
             [
              0.3333333333333333,
              "#9c179e"
             ],
             [
              0.4444444444444444,
              "#bd3786"
             ],
             [
              0.5555555555555556,
              "#d8576b"
             ],
             [
              0.6666666666666666,
              "#ed7953"
             ],
             [
              0.7777777777777778,
              "#fb9f3a"
             ],
             [
              0.8888888888888888,
              "#fdca26"
             ],
             [
              1,
              "#f0f921"
             ]
            ],
            "type": "histogram2dcontour"
           }
          ],
          "mesh3d": [
           {
            "colorbar": {
             "outlinewidth": 0,
             "ticks": ""
            },
            "type": "mesh3d"
           }
          ],
          "parcoords": [
           {
            "line": {
             "colorbar": {
              "outlinewidth": 0,
              "ticks": ""
             }
            },
            "type": "parcoords"
           }
          ],
          "pie": [
           {
            "automargin": true,
            "type": "pie"
           }
          ],
          "scatter": [
           {
            "fillpattern": {
             "fillmode": "overlay",
             "size": 10,
             "solidity": 0.2
            },
            "type": "scatter"
           }
          ],
          "scatter3d": [
           {
            "line": {
             "colorbar": {
              "outlinewidth": 0,
              "ticks": ""
             }
            },
            "marker": {
             "colorbar": {
              "outlinewidth": 0,
              "ticks": ""
             }
            },
            "type": "scatter3d"
           }
          ],
          "scattercarpet": [
           {
            "marker": {
             "colorbar": {
              "outlinewidth": 0,
              "ticks": ""
             }
            },
            "type": "scattercarpet"
           }
          ],
          "scattergeo": [
           {
            "marker": {
             "colorbar": {
              "outlinewidth": 0,
              "ticks": ""
             }
            },
            "type": "scattergeo"
           }
          ],
          "scattergl": [
           {
            "marker": {
             "colorbar": {
              "outlinewidth": 0,
              "ticks": ""
             }
            },
            "type": "scattergl"
           }
          ],
          "scattermapbox": [
           {
            "marker": {
             "colorbar": {
              "outlinewidth": 0,
              "ticks": ""
             }
            },
            "type": "scattermapbox"
           }
          ],
          "scatterpolar": [
           {
            "marker": {
             "colorbar": {
              "outlinewidth": 0,
              "ticks": ""
             }
            },
            "type": "scatterpolar"
           }
          ],
          "scatterpolargl": [
           {
            "marker": {
             "colorbar": {
              "outlinewidth": 0,
              "ticks": ""
             }
            },
            "type": "scatterpolargl"
           }
          ],
          "scatterternary": [
           {
            "marker": {
             "colorbar": {
              "outlinewidth": 0,
              "ticks": ""
             }
            },
            "type": "scatterternary"
           }
          ],
          "surface": [
           {
            "colorbar": {
             "outlinewidth": 0,
             "ticks": ""
            },
            "colorscale": [
             [
              0,
              "#0d0887"
             ],
             [
              0.1111111111111111,
              "#46039f"
             ],
             [
              0.2222222222222222,
              "#7201a8"
             ],
             [
              0.3333333333333333,
              "#9c179e"
             ],
             [
              0.4444444444444444,
              "#bd3786"
             ],
             [
              0.5555555555555556,
              "#d8576b"
             ],
             [
              0.6666666666666666,
              "#ed7953"
             ],
             [
              0.7777777777777778,
              "#fb9f3a"
             ],
             [
              0.8888888888888888,
              "#fdca26"
             ],
             [
              1,
              "#f0f921"
             ]
            ],
            "type": "surface"
           }
          ],
          "table": [
           {
            "cells": {
             "fill": {
              "color": "#EBF0F8"
             },
             "line": {
              "color": "white"
             }
            },
            "header": {
             "fill": {
              "color": "#C8D4E3"
             },
             "line": {
              "color": "white"
             }
            },
            "type": "table"
           }
          ]
         },
         "layout": {
          "annotationdefaults": {
           "arrowcolor": "#2a3f5f",
           "arrowhead": 0,
           "arrowwidth": 1
          },
          "autotypenumbers": "strict",
          "coloraxis": {
           "colorbar": {
            "outlinewidth": 0,
            "ticks": ""
           }
          },
          "colorscale": {
           "diverging": [
            [
             0,
             "#8e0152"
            ],
            [
             0.1,
             "#c51b7d"
            ],
            [
             0.2,
             "#de77ae"
            ],
            [
             0.3,
             "#f1b6da"
            ],
            [
             0.4,
             "#fde0ef"
            ],
            [
             0.5,
             "#f7f7f7"
            ],
            [
             0.6,
             "#e6f5d0"
            ],
            [
             0.7,
             "#b8e186"
            ],
            [
             0.8,
             "#7fbc41"
            ],
            [
             0.9,
             "#4d9221"
            ],
            [
             1,
             "#276419"
            ]
           ],
           "sequential": [
            [
             0,
             "#0d0887"
            ],
            [
             0.1111111111111111,
             "#46039f"
            ],
            [
             0.2222222222222222,
             "#7201a8"
            ],
            [
             0.3333333333333333,
             "#9c179e"
            ],
            [
             0.4444444444444444,
             "#bd3786"
            ],
            [
             0.5555555555555556,
             "#d8576b"
            ],
            [
             0.6666666666666666,
             "#ed7953"
            ],
            [
             0.7777777777777778,
             "#fb9f3a"
            ],
            [
             0.8888888888888888,
             "#fdca26"
            ],
            [
             1,
             "#f0f921"
            ]
           ],
           "sequentialminus": [
            [
             0,
             "#0d0887"
            ],
            [
             0.1111111111111111,
             "#46039f"
            ],
            [
             0.2222222222222222,
             "#7201a8"
            ],
            [
             0.3333333333333333,
             "#9c179e"
            ],
            [
             0.4444444444444444,
             "#bd3786"
            ],
            [
             0.5555555555555556,
             "#d8576b"
            ],
            [
             0.6666666666666666,
             "#ed7953"
            ],
            [
             0.7777777777777778,
             "#fb9f3a"
            ],
            [
             0.8888888888888888,
             "#fdca26"
            ],
            [
             1,
             "#f0f921"
            ]
           ]
          },
          "colorway": [
           "#636efa",
           "#EF553B",
           "#00cc96",
           "#ab63fa",
           "#FFA15A",
           "#19d3f3",
           "#FF6692",
           "#B6E880",
           "#FF97FF",
           "#FECB52"
          ],
          "font": {
           "color": "#2a3f5f"
          },
          "geo": {
           "bgcolor": "white",
           "lakecolor": "white",
           "landcolor": "#E5ECF6",
           "showlakes": true,
           "showland": true,
           "subunitcolor": "white"
          },
          "hoverlabel": {
           "align": "left"
          },
          "hovermode": "closest",
          "mapbox": {
           "style": "light"
          },
          "paper_bgcolor": "white",
          "plot_bgcolor": "#E5ECF6",
          "polar": {
           "angularaxis": {
            "gridcolor": "white",
            "linecolor": "white",
            "ticks": ""
           },
           "bgcolor": "#E5ECF6",
           "radialaxis": {
            "gridcolor": "white",
            "linecolor": "white",
            "ticks": ""
           }
          },
          "scene": {
           "xaxis": {
            "backgroundcolor": "#E5ECF6",
            "gridcolor": "white",
            "gridwidth": 2,
            "linecolor": "white",
            "showbackground": true,
            "ticks": "",
            "zerolinecolor": "white"
           },
           "yaxis": {
            "backgroundcolor": "#E5ECF6",
            "gridcolor": "white",
            "gridwidth": 2,
            "linecolor": "white",
            "showbackground": true,
            "ticks": "",
            "zerolinecolor": "white"
           },
           "zaxis": {
            "backgroundcolor": "#E5ECF6",
            "gridcolor": "white",
            "gridwidth": 2,
            "linecolor": "white",
            "showbackground": true,
            "ticks": "",
            "zerolinecolor": "white"
           }
          },
          "shapedefaults": {
           "line": {
            "color": "#2a3f5f"
           }
          },
          "ternary": {
           "aaxis": {
            "gridcolor": "white",
            "linecolor": "white",
            "ticks": ""
           },
           "baxis": {
            "gridcolor": "white",
            "linecolor": "white",
            "ticks": ""
           },
           "bgcolor": "#E5ECF6",
           "caxis": {
            "gridcolor": "white",
            "linecolor": "white",
            "ticks": ""
           }
          },
          "title": {
           "x": 0.05
          },
          "xaxis": {
           "automargin": true,
           "gridcolor": "white",
           "linecolor": "white",
           "ticks": "",
           "title": {
            "standoff": 15
           },
           "zerolinecolor": "white",
           "zerolinewidth": 2
          },
          "yaxis": {
           "automargin": true,
           "gridcolor": "white",
           "linecolor": "white",
           "ticks": "",
           "title": {
            "standoff": 15
           },
           "zerolinecolor": "white",
           "zerolinewidth": 2
          }
         }
        },
        "title": {
         "text": "Year Wise Number of Cars"
        },
        "xaxis": {
         "anchor": "y",
         "domain": [
          0,
          1
         ],
         "title": {
          "text": "year"
         }
        },
        "yaxis": {
         "anchor": "x",
         "domain": [
          0,
          1
         ],
         "title": {
          "text": "num_cars"
         }
        }
       }
      },
      "text/html": [
       "<div>                            <div id=\"ba7813c0-e65e-4f05-8817-436627d89d8a\" class=\"plotly-graph-div\" style=\"height:525px; width:100%;\"></div>            <script type=\"text/javascript\">                require([\"plotly\"], function(Plotly) {                    window.PLOTLYENV=window.PLOTLYENV || {};                                    if (document.getElementById(\"ba7813c0-e65e-4f05-8817-436627d89d8a\")) {                    Plotly.newPlot(                        \"ba7813c0-e65e-4f05-8817-436627d89d8a\",                        [{\"hovertemplate\":\"year=%{x}\\u003cbr\\u003enum_cars=%{y}\\u003cextra\\u003e\\u003c\\u002fextra\\u003e\",\"legendgroup\":\"\",\"line\":{\"color\":\"#636efa\",\"dash\":\"solid\"},\"marker\":{\"symbol\":\"circle\"},\"mode\":\"lines+markers\",\"name\":\"\",\"orientation\":\"v\",\"showlegend\":false,\"x\":[1997,1998,1999,2000,2002,2008,2010,2011,2012,2013,2014,2015,2016,2017,2018,2019,2020,2021,2022,2023],\"xaxis\":\"x\",\"y\":[1,1,3,10,2,23,24,840,1705,4691,3685,4940,5735,8644,14246,10266,11038,18364,26530,1886],\"yaxis\":\"y\",\"type\":\"scatter\"}],                        {\"template\":{\"data\":{\"histogram2dcontour\":[{\"type\":\"histogram2dcontour\",\"colorbar\":{\"outlinewidth\":0,\"ticks\":\"\"},\"colorscale\":[[0.0,\"#0d0887\"],[0.1111111111111111,\"#46039f\"],[0.2222222222222222,\"#7201a8\"],[0.3333333333333333,\"#9c179e\"],[0.4444444444444444,\"#bd3786\"],[0.5555555555555556,\"#d8576b\"],[0.6666666666666666,\"#ed7953\"],[0.7777777777777778,\"#fb9f3a\"],[0.8888888888888888,\"#fdca26\"],[1.0,\"#f0f921\"]]}],\"choropleth\":[{\"type\":\"choropleth\",\"colorbar\":{\"outlinewidth\":0,\"ticks\":\"\"}}],\"histogram2d\":[{\"type\":\"histogram2d\",\"colorbar\":{\"outlinewidth\":0,\"ticks\":\"\"},\"colorscale\":[[0.0,\"#0d0887\"],[0.1111111111111111,\"#46039f\"],[0.2222222222222222,\"#7201a8\"],[0.3333333333333333,\"#9c179e\"],[0.4444444444444444,\"#bd3786\"],[0.5555555555555556,\"#d8576b\"],[0.6666666666666666,\"#ed7953\"],[0.7777777777777778,\"#fb9f3a\"],[0.8888888888888888,\"#fdca26\"],[1.0,\"#f0f921\"]]}],\"heatmap\":[{\"type\":\"heatmap\",\"colorbar\":{\"outlinewidth\":0,\"ticks\":\"\"},\"colorscale\":[[0.0,\"#0d0887\"],[0.1111111111111111,\"#46039f\"],[0.2222222222222222,\"#7201a8\"],[0.3333333333333333,\"#9c179e\"],[0.4444444444444444,\"#bd3786\"],[0.5555555555555556,\"#d8576b\"],[0.6666666666666666,\"#ed7953\"],[0.7777777777777778,\"#fb9f3a\"],[0.8888888888888888,\"#fdca26\"],[1.0,\"#f0f921\"]]}],\"heatmapgl\":[{\"type\":\"heatmapgl\",\"colorbar\":{\"outlinewidth\":0,\"ticks\":\"\"},\"colorscale\":[[0.0,\"#0d0887\"],[0.1111111111111111,\"#46039f\"],[0.2222222222222222,\"#7201a8\"],[0.3333333333333333,\"#9c179e\"],[0.4444444444444444,\"#bd3786\"],[0.5555555555555556,\"#d8576b\"],[0.6666666666666666,\"#ed7953\"],[0.7777777777777778,\"#fb9f3a\"],[0.8888888888888888,\"#fdca26\"],[1.0,\"#f0f921\"]]}],\"contourcarpet\":[{\"type\":\"contourcarpet\",\"colorbar\":{\"outlinewidth\":0,\"ticks\":\"\"}}],\"contour\":[{\"type\":\"contour\",\"colorbar\":{\"outlinewidth\":0,\"ticks\":\"\"},\"colorscale\":[[0.0,\"#0d0887\"],[0.1111111111111111,\"#46039f\"],[0.2222222222222222,\"#7201a8\"],[0.3333333333333333,\"#9c179e\"],[0.4444444444444444,\"#bd3786\"],[0.5555555555555556,\"#d8576b\"],[0.6666666666666666,\"#ed7953\"],[0.7777777777777778,\"#fb9f3a\"],[0.8888888888888888,\"#fdca26\"],[1.0,\"#f0f921\"]]}],\"surface\":[{\"type\":\"surface\",\"colorbar\":{\"outlinewidth\":0,\"ticks\":\"\"},\"colorscale\":[[0.0,\"#0d0887\"],[0.1111111111111111,\"#46039f\"],[0.2222222222222222,\"#7201a8\"],[0.3333333333333333,\"#9c179e\"],[0.4444444444444444,\"#bd3786\"],[0.5555555555555556,\"#d8576b\"],[0.6666666666666666,\"#ed7953\"],[0.7777777777777778,\"#fb9f3a\"],[0.8888888888888888,\"#fdca26\"],[1.0,\"#f0f921\"]]}],\"mesh3d\":[{\"type\":\"mesh3d\",\"colorbar\":{\"outlinewidth\":0,\"ticks\":\"\"}}],\"scatter\":[{\"fillpattern\":{\"fillmode\":\"overlay\",\"size\":10,\"solidity\":0.2},\"type\":\"scatter\"}],\"parcoords\":[{\"type\":\"parcoords\",\"line\":{\"colorbar\":{\"outlinewidth\":0,\"ticks\":\"\"}}}],\"scatterpolargl\":[{\"type\":\"scatterpolargl\",\"marker\":{\"colorbar\":{\"outlinewidth\":0,\"ticks\":\"\"}}}],\"bar\":[{\"error_x\":{\"color\":\"#2a3f5f\"},\"error_y\":{\"color\":\"#2a3f5f\"},\"marker\":{\"line\":{\"color\":\"#E5ECF6\",\"width\":0.5},\"pattern\":{\"fillmode\":\"overlay\",\"size\":10,\"solidity\":0.2}},\"type\":\"bar\"}],\"scattergeo\":[{\"type\":\"scattergeo\",\"marker\":{\"colorbar\":{\"outlinewidth\":0,\"ticks\":\"\"}}}],\"scatterpolar\":[{\"type\":\"scatterpolar\",\"marker\":{\"colorbar\":{\"outlinewidth\":0,\"ticks\":\"\"}}}],\"histogram\":[{\"marker\":{\"pattern\":{\"fillmode\":\"overlay\",\"size\":10,\"solidity\":0.2}},\"type\":\"histogram\"}],\"scattergl\":[{\"type\":\"scattergl\",\"marker\":{\"colorbar\":{\"outlinewidth\":0,\"ticks\":\"\"}}}],\"scatter3d\":[{\"type\":\"scatter3d\",\"line\":{\"colorbar\":{\"outlinewidth\":0,\"ticks\":\"\"}},\"marker\":{\"colorbar\":{\"outlinewidth\":0,\"ticks\":\"\"}}}],\"scattermapbox\":[{\"type\":\"scattermapbox\",\"marker\":{\"colorbar\":{\"outlinewidth\":0,\"ticks\":\"\"}}}],\"scatterternary\":[{\"type\":\"scatterternary\",\"marker\":{\"colorbar\":{\"outlinewidth\":0,\"ticks\":\"\"}}}],\"scattercarpet\":[{\"type\":\"scattercarpet\",\"marker\":{\"colorbar\":{\"outlinewidth\":0,\"ticks\":\"\"}}}],\"carpet\":[{\"aaxis\":{\"endlinecolor\":\"#2a3f5f\",\"gridcolor\":\"white\",\"linecolor\":\"white\",\"minorgridcolor\":\"white\",\"startlinecolor\":\"#2a3f5f\"},\"baxis\":{\"endlinecolor\":\"#2a3f5f\",\"gridcolor\":\"white\",\"linecolor\":\"white\",\"minorgridcolor\":\"white\",\"startlinecolor\":\"#2a3f5f\"},\"type\":\"carpet\"}],\"table\":[{\"cells\":{\"fill\":{\"color\":\"#EBF0F8\"},\"line\":{\"color\":\"white\"}},\"header\":{\"fill\":{\"color\":\"#C8D4E3\"},\"line\":{\"color\":\"white\"}},\"type\":\"table\"}],\"barpolar\":[{\"marker\":{\"line\":{\"color\":\"#E5ECF6\",\"width\":0.5},\"pattern\":{\"fillmode\":\"overlay\",\"size\":10,\"solidity\":0.2}},\"type\":\"barpolar\"}],\"pie\":[{\"automargin\":true,\"type\":\"pie\"}]},\"layout\":{\"autotypenumbers\":\"strict\",\"colorway\":[\"#636efa\",\"#EF553B\",\"#00cc96\",\"#ab63fa\",\"#FFA15A\",\"#19d3f3\",\"#FF6692\",\"#B6E880\",\"#FF97FF\",\"#FECB52\"],\"font\":{\"color\":\"#2a3f5f\"},\"hovermode\":\"closest\",\"hoverlabel\":{\"align\":\"left\"},\"paper_bgcolor\":\"white\",\"plot_bgcolor\":\"#E5ECF6\",\"polar\":{\"bgcolor\":\"#E5ECF6\",\"angularaxis\":{\"gridcolor\":\"white\",\"linecolor\":\"white\",\"ticks\":\"\"},\"radialaxis\":{\"gridcolor\":\"white\",\"linecolor\":\"white\",\"ticks\":\"\"}},\"ternary\":{\"bgcolor\":\"#E5ECF6\",\"aaxis\":{\"gridcolor\":\"white\",\"linecolor\":\"white\",\"ticks\":\"\"},\"baxis\":{\"gridcolor\":\"white\",\"linecolor\":\"white\",\"ticks\":\"\"},\"caxis\":{\"gridcolor\":\"white\",\"linecolor\":\"white\",\"ticks\":\"\"}},\"coloraxis\":{\"colorbar\":{\"outlinewidth\":0,\"ticks\":\"\"}},\"colorscale\":{\"sequential\":[[0.0,\"#0d0887\"],[0.1111111111111111,\"#46039f\"],[0.2222222222222222,\"#7201a8\"],[0.3333333333333333,\"#9c179e\"],[0.4444444444444444,\"#bd3786\"],[0.5555555555555556,\"#d8576b\"],[0.6666666666666666,\"#ed7953\"],[0.7777777777777778,\"#fb9f3a\"],[0.8888888888888888,\"#fdca26\"],[1.0,\"#f0f921\"]],\"sequentialminus\":[[0.0,\"#0d0887\"],[0.1111111111111111,\"#46039f\"],[0.2222222222222222,\"#7201a8\"],[0.3333333333333333,\"#9c179e\"],[0.4444444444444444,\"#bd3786\"],[0.5555555555555556,\"#d8576b\"],[0.6666666666666666,\"#ed7953\"],[0.7777777777777778,\"#fb9f3a\"],[0.8888888888888888,\"#fdca26\"],[1.0,\"#f0f921\"]],\"diverging\":[[0,\"#8e0152\"],[0.1,\"#c51b7d\"],[0.2,\"#de77ae\"],[0.3,\"#f1b6da\"],[0.4,\"#fde0ef\"],[0.5,\"#f7f7f7\"],[0.6,\"#e6f5d0\"],[0.7,\"#b8e186\"],[0.8,\"#7fbc41\"],[0.9,\"#4d9221\"],[1,\"#276419\"]]},\"xaxis\":{\"gridcolor\":\"white\",\"linecolor\":\"white\",\"ticks\":\"\",\"title\":{\"standoff\":15},\"zerolinecolor\":\"white\",\"automargin\":true,\"zerolinewidth\":2},\"yaxis\":{\"gridcolor\":\"white\",\"linecolor\":\"white\",\"ticks\":\"\",\"title\":{\"standoff\":15},\"zerolinecolor\":\"white\",\"automargin\":true,\"zerolinewidth\":2},\"scene\":{\"xaxis\":{\"backgroundcolor\":\"#E5ECF6\",\"gridcolor\":\"white\",\"linecolor\":\"white\",\"showbackground\":true,\"ticks\":\"\",\"zerolinecolor\":\"white\",\"gridwidth\":2},\"yaxis\":{\"backgroundcolor\":\"#E5ECF6\",\"gridcolor\":\"white\",\"linecolor\":\"white\",\"showbackground\":true,\"ticks\":\"\",\"zerolinecolor\":\"white\",\"gridwidth\":2},\"zaxis\":{\"backgroundcolor\":\"#E5ECF6\",\"gridcolor\":\"white\",\"linecolor\":\"white\",\"showbackground\":true,\"ticks\":\"\",\"zerolinecolor\":\"white\",\"gridwidth\":2}},\"shapedefaults\":{\"line\":{\"color\":\"#2a3f5f\"}},\"annotationdefaults\":{\"arrowcolor\":\"#2a3f5f\",\"arrowhead\":0,\"arrowwidth\":1},\"geo\":{\"bgcolor\":\"white\",\"landcolor\":\"#E5ECF6\",\"subunitcolor\":\"white\",\"showland\":true,\"showlakes\":true,\"lakecolor\":\"white\"},\"title\":{\"x\":0.05},\"mapbox\":{\"style\":\"light\"}}},\"xaxis\":{\"anchor\":\"y\",\"domain\":[0.0,1.0],\"title\":{\"text\":\"year\"}},\"yaxis\":{\"anchor\":\"x\",\"domain\":[0.0,1.0],\"title\":{\"text\":\"num_cars\"}},\"legend\":{\"tracegroupgap\":0},\"title\":{\"text\":\"Year Wise Number of Cars\"}},                        {\"responsive\": true}                    ).then(function(){\n",
       "                            \n",
       "var gd = document.getElementById('ba7813c0-e65e-4f05-8817-436627d89d8a');\n",
       "var x = new MutationObserver(function (mutations, observer) {{\n",
       "        var display = window.getComputedStyle(gd).display;\n",
       "        if (!display || display === 'none') {{\n",
       "            console.log([gd, 'removed!']);\n",
       "            Plotly.purge(gd);\n",
       "            observer.disconnect();\n",
       "        }}\n",
       "}});\n",
       "\n",
       "// Listen for the removal of the full notebook cells\n",
       "var notebookContainer = gd.closest('#notebook-container');\n",
       "if (notebookContainer) {{\n",
       "    x.observe(notebookContainer, {childList: true});\n",
       "}}\n",
       "\n",
       "// Listen for the clearing of the current output cell\n",
       "var outputEl = gd.closest('.output');\n",
       "if (outputEl) {{\n",
       "    x.observe(outputEl, {childList: true});\n",
       "}}\n",
       "\n",
       "                        })                };                });            </script>        </div>"
      ]
     },
     "metadata": {},
     "output_type": "display_data"
    }
   ],
   "source": [
    "# Year Wise Cars\n",
    "year_wise_cars = df.groupby('ModelYear')['VIN'].count().reset_index()\n",
    "year_wise_cars.columns = ['year','num_cars']\n",
    "\n",
    "fig = ps.line(year_wise_cars,x=\"year\", y=\"num_cars\", title='Year Wise Number of Cars',markers=True)\n",
    "fig.show()\n"
   ]
  },
  {
   "cell_type": "code",
   "execution_count": 178,
   "id": "dd17f2d6",
   "metadata": {},
   "outputs": [
    {
     "data": {
      "text/html": [
       "<div>\n",
       "<style scoped>\n",
       "    .dataframe tbody tr th:only-of-type {\n",
       "        vertical-align: middle;\n",
       "    }\n",
       "\n",
       "    .dataframe tbody tr th {\n",
       "        vertical-align: top;\n",
       "    }\n",
       "\n",
       "    .dataframe thead th {\n",
       "        text-align: right;\n",
       "    }\n",
       "</style>\n",
       "<table border=\"1\" class=\"dataframe\">\n",
       "  <thead>\n",
       "    <tr style=\"text-align: right;\">\n",
       "      <th></th>\n",
       "      <th>year</th>\n",
       "      <th>num_cars</th>\n",
       "    </tr>\n",
       "  </thead>\n",
       "  <tbody>\n",
       "    <tr>\n",
       "      <th>18</th>\n",
       "      <td>2022</td>\n",
       "      <td>26530</td>\n",
       "    </tr>\n",
       "    <tr>\n",
       "      <th>17</th>\n",
       "      <td>2021</td>\n",
       "      <td>18364</td>\n",
       "    </tr>\n",
       "    <tr>\n",
       "      <th>14</th>\n",
       "      <td>2018</td>\n",
       "      <td>14246</td>\n",
       "    </tr>\n",
       "    <tr>\n",
       "      <th>16</th>\n",
       "      <td>2020</td>\n",
       "      <td>11038</td>\n",
       "    </tr>\n",
       "    <tr>\n",
       "      <th>15</th>\n",
       "      <td>2019</td>\n",
       "      <td>10266</td>\n",
       "    </tr>\n",
       "    <tr>\n",
       "      <th>13</th>\n",
       "      <td>2017</td>\n",
       "      <td>8644</td>\n",
       "    </tr>\n",
       "    <tr>\n",
       "      <th>12</th>\n",
       "      <td>2016</td>\n",
       "      <td>5735</td>\n",
       "    </tr>\n",
       "    <tr>\n",
       "      <th>11</th>\n",
       "      <td>2015</td>\n",
       "      <td>4940</td>\n",
       "    </tr>\n",
       "    <tr>\n",
       "      <th>9</th>\n",
       "      <td>2013</td>\n",
       "      <td>4691</td>\n",
       "    </tr>\n",
       "    <tr>\n",
       "      <th>10</th>\n",
       "      <td>2014</td>\n",
       "      <td>3685</td>\n",
       "    </tr>\n",
       "  </tbody>\n",
       "</table>\n",
       "</div>"
      ],
      "text/plain": [
       "    year  num_cars\n",
       "18  2022     26530\n",
       "17  2021     18364\n",
       "14  2018     14246\n",
       "16  2020     11038\n",
       "15  2019     10266\n",
       "13  2017      8644\n",
       "12  2016      5735\n",
       "11  2015      4940\n",
       "9   2013      4691\n",
       "10  2014      3685"
      ]
     },
     "execution_count": 178,
     "metadata": {},
     "output_type": "execute_result"
    }
   ],
   "source": [
    "year_wise_cars.sort_values(by='num_cars', ascending=False).head(10)"
   ]
  },
  {
   "cell_type": "code",
   "execution_count": 179,
   "id": "1ad2b911",
   "metadata": {},
   "outputs": [],
   "source": [
    "df['lat'] = df['Vehicle_Location'].str.split(' ').str[1].str.split('(').str[1].astype(float)\n",
    "df['lon'] = df['Vehicle_Location'].str.split(' ').str[2].str.split(')').str[0].astype(float)\n",
    "df['lat'] = df['lat'].fillna(0)\n",
    "df['lon'] = df['lon'].fillna(0)"
   ]
  },
  {
   "cell_type": "code",
   "execution_count": 180,
   "id": "844a6c62",
   "metadata": {},
   "outputs": [
    {
     "name": "stderr",
     "output_type": "stream",
     "text": [
      "C:\\Users\\Shankar\\AppData\\Local\\Temp/ipykernel_19248/607117436.py:5: FutureWarning:\n",
      "\n",
      "The geopandas.dataset module is deprecated and will be removed in GeoPandas 1.0. You can get the original 'naturalearth_lowres' data from https://www.naturalearthdata.com/downloads/110m-cultural-vectors/.\n",
      "\n"
     ]
    },
    {
     "data": {
      "image/png": "[encoded data removed]",
      "text/plain": [
       "<Figure size 720x432 with 1 Axes>"
      ]
     },
     "metadata": {},
     "output_type": "display_data"
    }
   ],
   "source": [
    "geometry = [Point(xy) for xy in zip(df['lat'], df['lon'])]\n",
    "gdf = GeoDataFrame(df, geometry=geometry)   \n",
    "\n",
    "#this is a simple map that goes with geopandas\n",
    "world = gpd.read_file(gpd.datasets.get_path('naturalearth_lowres'))\n",
    "gdf.plot(ax=world.plot(figsize=(10, 6)), marker='o', color='red', markersize=15);"
   ]
  },
  {
   "cell_type": "code",
   "execution_count": null,
   "id": "d49b4812",
   "metadata": {},
   "outputs": [],
   "source": []
  }
 ],
 "metadata": {
  "kernelspec": {
   "display_name": "Python 3 (ipykernel)",
   "language": "python",
   "name": "python3"
  },
  "language_info": {
   "codemirror_mode": {
    "name": "ipython",
    "version": 3
   },
   "file_extension": ".py",
   "mimetype": "text/x-python",
   "name": "python",
   "nbconvert_exporter": "python",
   "pygments_lexer": "ipython3",
   "version": "3.9.7"
  }
 },
 "nbformat": 4,
 "nbformat_minor": 5
}
